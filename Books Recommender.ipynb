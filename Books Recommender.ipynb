{
 "cells": [
  {
   "cell_type": "markdown",
   "metadata": {},
   "source": [
    "# Books Recommender system using clustering\n",
    "Collaborative filtering\n",
    "- Dataset :- https://www.kaggle.com/ra4u12/bookrecommendation"
   ]
  },
  {
   "cell_type": "code",
   "execution_count": 79,
   "metadata": {
    "ExecuteTime": {
     "end_time": "2023-04-21T02:47:46.770169Z",
     "start_time": "2023-04-21T02:47:46.765769Z"
    }
   },
   "outputs": [],
   "source": [
    "# Importing necessary library\n",
    "import pandas as pd\n",
    "import numpy as np\n",
    "import matplotlib.pyplot as plt\n",
    "import seaborn as sns"
   ]
  },
  {
   "cell_type": "code",
   "execution_count": 80,
   "metadata": {
    "ExecuteTime": {
     "end_time": "2023-04-21T02:34:23.413802Z",
     "start_time": "2023-04-21T02:34:20.964365Z"
    }
   },
   "outputs": [],
   "source": [
    "books = pd.read_csv('data/BX-Books.csv', sep=\";\", on_bad_lines='skip', encoding='latin-1',low_memory=False)"
   ]
  },
  {
   "cell_type": "code",
   "execution_count": 81,
   "metadata": {
    "ExecuteTime": {
     "end_time": "2023-04-21T02:34:27.400211Z",
     "start_time": "2023-04-21T02:34:27.345062Z"
    }
   },
   "outputs": [
    {
     "data": {
      "text/plain": "         ISBN                                         Book-Title  \\\n0  0195153448                                Classical Mythology   \n1  0002005018                                       Clara Callan   \n2  0060973129                               Decision in Normandy   \n3  0374157065  Flu: The Story of the Great Influenza Pandemic...   \n4  0393045218                             The Mummies of Urumchi   \n\n            Book-Author Year-Of-Publication                   Publisher  \\\n0    Mark P. O. Morford                2002     Oxford University Press   \n1  Richard Bruce Wright                2001       HarperFlamingo Canada   \n2          Carlo D'Este                1991             HarperPerennial   \n3      Gina Bari Kolata                1999        Farrar Straus Giroux   \n4       E. J. W. Barber                1999  W. W. Norton &amp; Company   \n\n                                         Image-URL-S  \\\n0  http://images.amazon.com/images/P/0195153448.0...   \n1  http://images.amazon.com/images/P/0002005018.0...   \n2  http://images.amazon.com/images/P/0060973129.0...   \n3  http://images.amazon.com/images/P/0374157065.0...   \n4  http://images.amazon.com/images/P/0393045218.0...   \n\n                                         Image-URL-M  \\\n0  http://images.amazon.com/images/P/0195153448.0...   \n1  http://images.amazon.com/images/P/0002005018.0...   \n2  http://images.amazon.com/images/P/0060973129.0...   \n3  http://images.amazon.com/images/P/0374157065.0...   \n4  http://images.amazon.com/images/P/0393045218.0...   \n\n                                         Image-URL-L  \n0  http://images.amazon.com/images/P/0195153448.0...  \n1  http://images.amazon.com/images/P/0002005018.0...  \n2  http://images.amazon.com/images/P/0060973129.0...  \n3  http://images.amazon.com/images/P/0374157065.0...  \n4  http://images.amazon.com/images/P/0393045218.0...  ",
      "text/html": "<div>\n<style scoped>\n    .dataframe tbody tr th:only-of-type {\n        vertical-align: middle;\n    }\n\n    .dataframe tbody tr th {\n        vertical-align: top;\n    }\n\n    .dataframe thead th {\n        text-align: right;\n    }\n</style>\n<table border=\"1\" class=\"dataframe\">\n  <thead>\n    <tr style=\"text-align: right;\">\n      <th></th>\n      <th>ISBN</th>\n      <th>Book-Title</th>\n      <th>Book-Author</th>\n      <th>Year-Of-Publication</th>\n      <th>Publisher</th>\n      <th>Image-URL-S</th>\n      <th>Image-URL-M</th>\n      <th>Image-URL-L</th>\n    </tr>\n  </thead>\n  <tbody>\n    <tr>\n      <th>0</th>\n      <td>0195153448</td>\n      <td>Classical Mythology</td>\n      <td>Mark P. O. Morford</td>\n      <td>2002</td>\n      <td>Oxford University Press</td>\n      <td>http://images.amazon.com/images/P/0195153448.0...</td>\n      <td>http://images.amazon.com/images/P/0195153448.0...</td>\n      <td>http://images.amazon.com/images/P/0195153448.0...</td>\n    </tr>\n    <tr>\n      <th>1</th>\n      <td>0002005018</td>\n      <td>Clara Callan</td>\n      <td>Richard Bruce Wright</td>\n      <td>2001</td>\n      <td>HarperFlamingo Canada</td>\n      <td>http://images.amazon.com/images/P/0002005018.0...</td>\n      <td>http://images.amazon.com/images/P/0002005018.0...</td>\n      <td>http://images.amazon.com/images/P/0002005018.0...</td>\n    </tr>\n    <tr>\n      <th>2</th>\n      <td>0060973129</td>\n      <td>Decision in Normandy</td>\n      <td>Carlo D'Este</td>\n      <td>1991</td>\n      <td>HarperPerennial</td>\n      <td>http://images.amazon.com/images/P/0060973129.0...</td>\n      <td>http://images.amazon.com/images/P/0060973129.0...</td>\n      <td>http://images.amazon.com/images/P/0060973129.0...</td>\n    </tr>\n    <tr>\n      <th>3</th>\n      <td>0374157065</td>\n      <td>Flu: The Story of the Great Influenza Pandemic...</td>\n      <td>Gina Bari Kolata</td>\n      <td>1999</td>\n      <td>Farrar Straus Giroux</td>\n      <td>http://images.amazon.com/images/P/0374157065.0...</td>\n      <td>http://images.amazon.com/images/P/0374157065.0...</td>\n      <td>http://images.amazon.com/images/P/0374157065.0...</td>\n    </tr>\n    <tr>\n      <th>4</th>\n      <td>0393045218</td>\n      <td>The Mummies of Urumchi</td>\n      <td>E. J. W. Barber</td>\n      <td>1999</td>\n      <td>W. W. Norton &amp;amp; Company</td>\n      <td>http://images.amazon.com/images/P/0393045218.0...</td>\n      <td>http://images.amazon.com/images/P/0393045218.0...</td>\n      <td>http://images.amazon.com/images/P/0393045218.0...</td>\n    </tr>\n  </tbody>\n</table>\n</div>"
     },
     "execution_count": 81,
     "metadata": {},
     "output_type": "execute_result"
    }
   ],
   "source": [
    "books.head()"
   ]
  },
  {
   "cell_type": "code",
   "execution_count": 82,
   "metadata": {
    "ExecuteTime": {
     "end_time": "2023-04-21T02:34:33.281696Z",
     "start_time": "2023-04-21T02:34:33.222154Z"
    }
   },
   "outputs": [
    {
     "data": {
      "text/plain": "'http://images.amazon.com/images/P/0671027387.01.LZZZZZZZ.jpg'"
     },
     "execution_count": 82,
     "metadata": {},
     "output_type": "execute_result"
    }
   ],
   "source": [
    "books.iloc[237]['Image-URL-L']"
   ]
  },
  {
   "cell_type": "code",
   "execution_count": 83,
   "metadata": {
    "ExecuteTime": {
     "end_time": "2023-04-21T02:34:35.820670Z",
     "start_time": "2023-04-21T02:34:35.784749Z"
    }
   },
   "outputs": [],
   "source": [
    "# !curl \"http://images.amazon.com/images/P/0195153448.01.THUMBZZZ.jpg\" --out.png\n",
    "# !curl http://images.amazon.com/images/P/0060973129.01.THUMBZZZ.jpg --output some.jpg"
   ]
  },
  {
   "cell_type": "code",
   "execution_count": 84,
   "metadata": {
    "ExecuteTime": {
     "end_time": "2023-04-21T02:34:39.647804Z",
     "start_time": "2023-04-21T02:34:39.573720Z"
    }
   },
   "outputs": [
    {
     "data": {
      "text/plain": "(271360, 8)"
     },
     "execution_count": 84,
     "metadata": {},
     "output_type": "execute_result"
    }
   ],
   "source": [
    "books.shape"
   ]
  },
  {
   "cell_type": "code",
   "execution_count": 85,
   "metadata": {
    "ExecuteTime": {
     "end_time": "2023-04-21T02:34:41.379842Z",
     "start_time": "2023-04-21T02:34:41.337060Z"
    }
   },
   "outputs": [
    {
     "data": {
      "text/plain": "Index(['ISBN', 'Book-Title', 'Book-Author', 'Year-Of-Publication', 'Publisher',\n       'Image-URL-S', 'Image-URL-M', 'Image-URL-L'],\n      dtype='object')"
     },
     "execution_count": 85,
     "metadata": {},
     "output_type": "execute_result"
    }
   ],
   "source": [
    "books.columns"
   ]
  },
  {
   "cell_type": "markdown",
   "metadata": {},
   "source": [
    "#### Conclution:\n",
    "Here Image URL columns is important for the poster. So, we will keep it"
   ]
  },
  {
   "cell_type": "code",
   "execution_count": 86,
   "metadata": {
    "ExecuteTime": {
     "end_time": "2023-04-21T02:34:44.395474Z",
     "start_time": "2023-04-21T02:34:44.382575Z"
    }
   },
   "outputs": [],
   "source": [
    "books = books[['ISBN','Book-Title', 'Book-Author', 'Year-Of-Publication', 'Publisher','Image-URL-L']]"
   ]
  },
  {
   "cell_type": "code",
   "execution_count": 87,
   "metadata": {
    "ExecuteTime": {
     "end_time": "2023-04-21T02:34:45.583102Z",
     "start_time": "2023-04-21T02:34:45.540223Z"
    }
   },
   "outputs": [
    {
     "data": {
      "text/plain": "         ISBN                                         Book-Title  \\\n0  0195153448                                Classical Mythology   \n1  0002005018                                       Clara Callan   \n2  0060973129                               Decision in Normandy   \n3  0374157065  Flu: The Story of the Great Influenza Pandemic...   \n4  0393045218                             The Mummies of Urumchi   \n\n            Book-Author Year-Of-Publication                   Publisher  \\\n0    Mark P. O. Morford                2002     Oxford University Press   \n1  Richard Bruce Wright                2001       HarperFlamingo Canada   \n2          Carlo D'Este                1991             HarperPerennial   \n3      Gina Bari Kolata                1999        Farrar Straus Giroux   \n4       E. J. W. Barber                1999  W. W. Norton &amp; Company   \n\n                                         Image-URL-L  \n0  http://images.amazon.com/images/P/0195153448.0...  \n1  http://images.amazon.com/images/P/0002005018.0...  \n2  http://images.amazon.com/images/P/0060973129.0...  \n3  http://images.amazon.com/images/P/0374157065.0...  \n4  http://images.amazon.com/images/P/0393045218.0...  ",
      "text/html": "<div>\n<style scoped>\n    .dataframe tbody tr th:only-of-type {\n        vertical-align: middle;\n    }\n\n    .dataframe tbody tr th {\n        vertical-align: top;\n    }\n\n    .dataframe thead th {\n        text-align: right;\n    }\n</style>\n<table border=\"1\" class=\"dataframe\">\n  <thead>\n    <tr style=\"text-align: right;\">\n      <th></th>\n      <th>ISBN</th>\n      <th>Book-Title</th>\n      <th>Book-Author</th>\n      <th>Year-Of-Publication</th>\n      <th>Publisher</th>\n      <th>Image-URL-L</th>\n    </tr>\n  </thead>\n  <tbody>\n    <tr>\n      <th>0</th>\n      <td>0195153448</td>\n      <td>Classical Mythology</td>\n      <td>Mark P. O. Morford</td>\n      <td>2002</td>\n      <td>Oxford University Press</td>\n      <td>http://images.amazon.com/images/P/0195153448.0...</td>\n    </tr>\n    <tr>\n      <th>1</th>\n      <td>0002005018</td>\n      <td>Clara Callan</td>\n      <td>Richard Bruce Wright</td>\n      <td>2001</td>\n      <td>HarperFlamingo Canada</td>\n      <td>http://images.amazon.com/images/P/0002005018.0...</td>\n    </tr>\n    <tr>\n      <th>2</th>\n      <td>0060973129</td>\n      <td>Decision in Normandy</td>\n      <td>Carlo D'Este</td>\n      <td>1991</td>\n      <td>HarperPerennial</td>\n      <td>http://images.amazon.com/images/P/0060973129.0...</td>\n    </tr>\n    <tr>\n      <th>3</th>\n      <td>0374157065</td>\n      <td>Flu: The Story of the Great Influenza Pandemic...</td>\n      <td>Gina Bari Kolata</td>\n      <td>1999</td>\n      <td>Farrar Straus Giroux</td>\n      <td>http://images.amazon.com/images/P/0374157065.0...</td>\n    </tr>\n    <tr>\n      <th>4</th>\n      <td>0393045218</td>\n      <td>The Mummies of Urumchi</td>\n      <td>E. J. W. Barber</td>\n      <td>1999</td>\n      <td>W. W. Norton &amp;amp; Company</td>\n      <td>http://images.amazon.com/images/P/0393045218.0...</td>\n    </tr>\n  </tbody>\n</table>\n</div>"
     },
     "execution_count": 87,
     "metadata": {},
     "output_type": "execute_result"
    }
   ],
   "source": [
    "books.head()"
   ]
  },
  {
   "cell_type": "code",
   "execution_count": 88,
   "metadata": {
    "ExecuteTime": {
     "end_time": "2023-04-21T02:34:48.240866Z",
     "start_time": "2023-04-21T02:34:48.215504Z"
    }
   },
   "outputs": [],
   "source": [
    "# Lets remane some wierd columns name\n",
    "books.rename(columns={\"Book-Title\":'title',\n",
    "                      'Book-Author':'author',\n",
    "                     \"Year-Of-Publication\":'year',\n",
    "                     \"Publisher\":\"publisher\",\n",
    "                     \"Image-URL-L\":\"image_url\"},inplace=True)"
   ]
  },
  {
   "cell_type": "code",
   "execution_count": 89,
   "metadata": {
    "ExecuteTime": {
     "end_time": "2023-04-21T02:34:49.680778Z",
     "start_time": "2023-04-21T02:34:49.653909Z"
    }
   },
   "outputs": [
    {
     "data": {
      "text/plain": "         ISBN                                              title  \\\n0  0195153448                                Classical Mythology   \n1  0002005018                                       Clara Callan   \n2  0060973129                               Decision in Normandy   \n3  0374157065  Flu: The Story of the Great Influenza Pandemic...   \n4  0393045218                             The Mummies of Urumchi   \n\n                 author  year                   publisher  \\\n0    Mark P. O. Morford  2002     Oxford University Press   \n1  Richard Bruce Wright  2001       HarperFlamingo Canada   \n2          Carlo D'Este  1991             HarperPerennial   \n3      Gina Bari Kolata  1999        Farrar Straus Giroux   \n4       E. J. W. Barber  1999  W. W. Norton &amp; Company   \n\n                                           image_url  \n0  http://images.amazon.com/images/P/0195153448.0...  \n1  http://images.amazon.com/images/P/0002005018.0...  \n2  http://images.amazon.com/images/P/0060973129.0...  \n3  http://images.amazon.com/images/P/0374157065.0...  \n4  http://images.amazon.com/images/P/0393045218.0...  ",
      "text/html": "<div>\n<style scoped>\n    .dataframe tbody tr th:only-of-type {\n        vertical-align: middle;\n    }\n\n    .dataframe tbody tr th {\n        vertical-align: top;\n    }\n\n    .dataframe thead th {\n        text-align: right;\n    }\n</style>\n<table border=\"1\" class=\"dataframe\">\n  <thead>\n    <tr style=\"text-align: right;\">\n      <th></th>\n      <th>ISBN</th>\n      <th>title</th>\n      <th>author</th>\n      <th>year</th>\n      <th>publisher</th>\n      <th>image_url</th>\n    </tr>\n  </thead>\n  <tbody>\n    <tr>\n      <th>0</th>\n      <td>0195153448</td>\n      <td>Classical Mythology</td>\n      <td>Mark P. O. Morford</td>\n      <td>2002</td>\n      <td>Oxford University Press</td>\n      <td>http://images.amazon.com/images/P/0195153448.0...</td>\n    </tr>\n    <tr>\n      <th>1</th>\n      <td>0002005018</td>\n      <td>Clara Callan</td>\n      <td>Richard Bruce Wright</td>\n      <td>2001</td>\n      <td>HarperFlamingo Canada</td>\n      <td>http://images.amazon.com/images/P/0002005018.0...</td>\n    </tr>\n    <tr>\n      <th>2</th>\n      <td>0060973129</td>\n      <td>Decision in Normandy</td>\n      <td>Carlo D'Este</td>\n      <td>1991</td>\n      <td>HarperPerennial</td>\n      <td>http://images.amazon.com/images/P/0060973129.0...</td>\n    </tr>\n    <tr>\n      <th>3</th>\n      <td>0374157065</td>\n      <td>Flu: The Story of the Great Influenza Pandemic...</td>\n      <td>Gina Bari Kolata</td>\n      <td>1999</td>\n      <td>Farrar Straus Giroux</td>\n      <td>http://images.amazon.com/images/P/0374157065.0...</td>\n    </tr>\n    <tr>\n      <th>4</th>\n      <td>0393045218</td>\n      <td>The Mummies of Urumchi</td>\n      <td>E. J. W. Barber</td>\n      <td>1999</td>\n      <td>W. W. Norton &amp;amp; Company</td>\n      <td>http://images.amazon.com/images/P/0393045218.0...</td>\n    </tr>\n  </tbody>\n</table>\n</div>"
     },
     "execution_count": 89,
     "metadata": {},
     "output_type": "execute_result"
    }
   ],
   "source": [
    "books.head()"
   ]
  },
  {
   "cell_type": "code",
   "execution_count": 90,
   "metadata": {
    "ExecuteTime": {
     "end_time": "2023-04-21T02:37:44.522594Z",
     "start_time": "2023-04-21T02:37:44.263785Z"
    }
   },
   "outputs": [],
   "source": [
    "# Now load the second dataframe\n",
    "\n",
    "users = pd.read_csv('data/BX-Users.csv', sep=\";\", on_bad_lines='skip', encoding='latin-1')"
   ]
  },
  {
   "cell_type": "code",
   "execution_count": 91,
   "metadata": {
    "ExecuteTime": {
     "end_time": "2023-04-21T02:37:48.142867Z",
     "start_time": "2023-04-21T02:37:48.118926Z"
    }
   },
   "outputs": [
    {
     "data": {
      "text/plain": "   User-ID                            Location   Age\n0        1                  nyc, new york, usa   NaN\n1        2           stockton, california, usa  18.0\n2        3     moscow, yukon territory, russia   NaN\n3        4           porto, v.n.gaia, portugal  17.0\n4        5  farnborough, hants, united kingdom   NaN",
      "text/html": "<div>\n<style scoped>\n    .dataframe tbody tr th:only-of-type {\n        vertical-align: middle;\n    }\n\n    .dataframe tbody tr th {\n        vertical-align: top;\n    }\n\n    .dataframe thead th {\n        text-align: right;\n    }\n</style>\n<table border=\"1\" class=\"dataframe\">\n  <thead>\n    <tr style=\"text-align: right;\">\n      <th></th>\n      <th>User-ID</th>\n      <th>Location</th>\n      <th>Age</th>\n    </tr>\n  </thead>\n  <tbody>\n    <tr>\n      <th>0</th>\n      <td>1</td>\n      <td>nyc, new york, usa</td>\n      <td>NaN</td>\n    </tr>\n    <tr>\n      <th>1</th>\n      <td>2</td>\n      <td>stockton, california, usa</td>\n      <td>18.0</td>\n    </tr>\n    <tr>\n      <th>2</th>\n      <td>3</td>\n      <td>moscow, yukon territory, russia</td>\n      <td>NaN</td>\n    </tr>\n    <tr>\n      <th>3</th>\n      <td>4</td>\n      <td>porto, v.n.gaia, portugal</td>\n      <td>17.0</td>\n    </tr>\n    <tr>\n      <th>4</th>\n      <td>5</td>\n      <td>farnborough, hants, united kingdom</td>\n      <td>NaN</td>\n    </tr>\n  </tbody>\n</table>\n</div>"
     },
     "execution_count": 91,
     "metadata": {},
     "output_type": "execute_result"
    }
   ],
   "source": [
    "users.head()"
   ]
  },
  {
   "cell_type": "code",
   "execution_count": 92,
   "metadata": {
    "ExecuteTime": {
     "end_time": "2023-04-21T02:37:49.507660Z",
     "start_time": "2023-04-21T02:37:49.495562Z"
    }
   },
   "outputs": [
    {
     "data": {
      "text/plain": "(278858, 3)"
     },
     "execution_count": 92,
     "metadata": {},
     "output_type": "execute_result"
    }
   ],
   "source": [
    "users.shape"
   ]
  },
  {
   "cell_type": "code",
   "execution_count": 93,
   "metadata": {
    "ExecuteTime": {
     "end_time": "2023-04-21T02:37:51.310824Z",
     "start_time": "2023-04-21T02:37:51.288186Z"
    }
   },
   "outputs": [],
   "source": [
    "# Lets remane some wierd columns name\n",
    "users.rename(columns={\"User-ID\":'user_id',\n",
    "                      'Location':'location',\n",
    "                     \"Age\":'age'},inplace=True)"
   ]
  },
  {
   "cell_type": "code",
   "execution_count": 94,
   "metadata": {
    "ExecuteTime": {
     "end_time": "2023-04-21T02:37:54.031663Z",
     "start_time": "2023-04-21T02:37:54.022439Z"
    }
   },
   "outputs": [
    {
     "data": {
      "text/plain": "   user_id                   location   age\n0        1         nyc, new york, usa   NaN\n1        2  stockton, california, usa  18.0",
      "text/html": "<div>\n<style scoped>\n    .dataframe tbody tr th:only-of-type {\n        vertical-align: middle;\n    }\n\n    .dataframe tbody tr th {\n        vertical-align: top;\n    }\n\n    .dataframe thead th {\n        text-align: right;\n    }\n</style>\n<table border=\"1\" class=\"dataframe\">\n  <thead>\n    <tr style=\"text-align: right;\">\n      <th></th>\n      <th>user_id</th>\n      <th>location</th>\n      <th>age</th>\n    </tr>\n  </thead>\n  <tbody>\n    <tr>\n      <th>0</th>\n      <td>1</td>\n      <td>nyc, new york, usa</td>\n      <td>NaN</td>\n    </tr>\n    <tr>\n      <th>1</th>\n      <td>2</td>\n      <td>stockton, california, usa</td>\n      <td>18.0</td>\n    </tr>\n  </tbody>\n</table>\n</div>"
     },
     "execution_count": 94,
     "metadata": {},
     "output_type": "execute_result"
    }
   ],
   "source": [
    "users.head(2)"
   ]
  },
  {
   "cell_type": "code",
   "execution_count": 95,
   "metadata": {
    "ExecuteTime": {
     "end_time": "2023-04-21T02:38:16.195864Z",
     "start_time": "2023-04-21T02:38:15.352663Z"
    }
   },
   "outputs": [],
   "source": [
    "# Now load the third dataframe\n",
    "\n",
    "ratings = pd.read_csv('data/BX-Book-Ratings.csv', sep=\";\", on_bad_lines='skip', encoding='latin-1')"
   ]
  },
  {
   "cell_type": "code",
   "execution_count": 96,
   "metadata": {
    "ExecuteTime": {
     "end_time": "2023-04-21T02:38:19.678359Z",
     "start_time": "2023-04-21T02:38:19.637522Z"
    }
   },
   "outputs": [
    {
     "data": {
      "text/plain": "   User-ID        ISBN  Book-Rating\n0   276725  034545104X            0\n1   276726  0155061224            5\n2   276727  0446520802            0\n3   276729  052165615X            3\n4   276729  0521795028            6",
      "text/html": "<div>\n<style scoped>\n    .dataframe tbody tr th:only-of-type {\n        vertical-align: middle;\n    }\n\n    .dataframe tbody tr th {\n        vertical-align: top;\n    }\n\n    .dataframe thead th {\n        text-align: right;\n    }\n</style>\n<table border=\"1\" class=\"dataframe\">\n  <thead>\n    <tr style=\"text-align: right;\">\n      <th></th>\n      <th>User-ID</th>\n      <th>ISBN</th>\n      <th>Book-Rating</th>\n    </tr>\n  </thead>\n  <tbody>\n    <tr>\n      <th>0</th>\n      <td>276725</td>\n      <td>034545104X</td>\n      <td>0</td>\n    </tr>\n    <tr>\n      <th>1</th>\n      <td>276726</td>\n      <td>0155061224</td>\n      <td>5</td>\n    </tr>\n    <tr>\n      <th>2</th>\n      <td>276727</td>\n      <td>0446520802</td>\n      <td>0</td>\n    </tr>\n    <tr>\n      <th>3</th>\n      <td>276729</td>\n      <td>052165615X</td>\n      <td>3</td>\n    </tr>\n    <tr>\n      <th>4</th>\n      <td>276729</td>\n      <td>0521795028</td>\n      <td>6</td>\n    </tr>\n  </tbody>\n</table>\n</div>"
     },
     "execution_count": 96,
     "metadata": {},
     "output_type": "execute_result"
    }
   ],
   "source": [
    "ratings.head()"
   ]
  },
  {
   "cell_type": "code",
   "execution_count": 97,
   "metadata": {
    "ExecuteTime": {
     "end_time": "2023-04-21T02:38:22.248019Z",
     "start_time": "2023-04-21T02:38:22.204212Z"
    }
   },
   "outputs": [
    {
     "data": {
      "text/plain": "(1149780, 3)"
     },
     "execution_count": 97,
     "metadata": {},
     "output_type": "execute_result"
    }
   ],
   "source": [
    "ratings.shape\n"
   ]
  },
  {
   "cell_type": "code",
   "execution_count": 98,
   "metadata": {
    "ExecuteTime": {
     "end_time": "2023-04-21T02:38:25.357812Z",
     "start_time": "2023-04-21T02:38:25.310613Z"
    }
   },
   "outputs": [],
   "source": [
    "# Lets remane some wierd columns name\n",
    "ratings.rename(columns={\"User-ID\":'user_id',\n",
    "                      'Book-Rating':'rating'},inplace=True)"
   ]
  },
  {
   "cell_type": "code",
   "execution_count": 99,
   "metadata": {
    "ExecuteTime": {
     "end_time": "2023-04-21T02:38:26.727985Z",
     "start_time": "2023-04-21T02:38:26.665788Z"
    }
   },
   "outputs": [
    {
     "data": {
      "text/plain": "   user_id        ISBN  rating\n0   276725  034545104X       0\n1   276726  0155061224       5",
      "text/html": "<div>\n<style scoped>\n    .dataframe tbody tr th:only-of-type {\n        vertical-align: middle;\n    }\n\n    .dataframe tbody tr th {\n        vertical-align: top;\n    }\n\n    .dataframe thead th {\n        text-align: right;\n    }\n</style>\n<table border=\"1\" class=\"dataframe\">\n  <thead>\n    <tr style=\"text-align: right;\">\n      <th></th>\n      <th>user_id</th>\n      <th>ISBN</th>\n      <th>rating</th>\n    </tr>\n  </thead>\n  <tbody>\n    <tr>\n      <th>0</th>\n      <td>276725</td>\n      <td>034545104X</td>\n      <td>0</td>\n    </tr>\n    <tr>\n      <th>1</th>\n      <td>276726</td>\n      <td>0155061224</td>\n      <td>5</td>\n    </tr>\n  </tbody>\n</table>\n</div>"
     },
     "execution_count": 99,
     "metadata": {},
     "output_type": "execute_result"
    }
   ],
   "source": [
    "ratings.head(2)"
   ]
  },
  {
   "cell_type": "markdown",
   "metadata": {},
   "source": [
    "### Conclution:\n",
    "Now we have 3 dataframes\n",
    "- books\n",
    "- users\n",
    "- ratings"
   ]
  },
  {
   "cell_type": "code",
   "execution_count": 100,
   "metadata": {
    "ExecuteTime": {
     "end_time": "2023-04-21T02:38:31.171102Z",
     "start_time": "2023-04-21T02:38:31.140304Z"
    }
   },
   "outputs": [
    {
     "name": "stdout",
     "output_type": "stream",
     "text": [
      "(271360, 6)\n",
      "(278858, 3)\n",
      "(1149780, 3)\n"
     ]
    }
   ],
   "source": [
    "print(books.shape, users.shape, ratings.shape, sep='\\n')\n",
    "\n"
   ]
  },
  {
   "cell_type": "code",
   "execution_count": 101,
   "metadata": {
    "ExecuteTime": {
     "end_time": "2023-04-21T02:38:32.528934Z",
     "start_time": "2023-04-21T02:38:32.499600Z"
    }
   },
   "outputs": [
    {
     "data": {
      "text/plain": "11676     13602\n198711     7550\n153662     6109\n98391      5891\n35859      5850\n          ...  \n116180        1\n116166        1\n116154        1\n116137        1\n276723        1\nName: user_id, Length: 105283, dtype: int64"
     },
     "execution_count": 101,
     "metadata": {},
     "output_type": "execute_result"
    }
   ],
   "source": [
    "ratings['user_id'].value_counts()"
   ]
  },
  {
   "cell_type": "code",
   "execution_count": 102,
   "metadata": {
    "ExecuteTime": {
     "end_time": "2023-04-21T02:38:33.661056Z",
     "start_time": "2023-04-21T02:38:33.597875Z"
    }
   },
   "outputs": [
    {
     "data": {
      "text/plain": "(105283,)"
     },
     "execution_count": 102,
     "metadata": {},
     "output_type": "execute_result"
    }
   ],
   "source": [
    "ratings['user_id'].value_counts().shape"
   ]
  },
  {
   "cell_type": "code",
   "execution_count": 103,
   "metadata": {
    "ExecuteTime": {
     "end_time": "2023-04-21T02:38:34.830603Z",
     "start_time": "2023-04-21T02:38:34.787094Z"
    }
   },
   "outputs": [
    {
     "data": {
      "text/plain": "(105283,)"
     },
     "execution_count": 103,
     "metadata": {},
     "output_type": "execute_result"
    }
   ],
   "source": [
    "ratings['user_id'].unique().shape"
   ]
  },
  {
   "cell_type": "code",
   "execution_count": 104,
   "metadata": {
    "ExecuteTime": {
     "end_time": "2023-04-21T02:38:35.789933Z",
     "start_time": "2023-04-21T02:38:35.737999Z"
    }
   },
   "outputs": [],
   "source": [
    "# Lets store users who had at least rated more than 200 books\n",
    "x = ratings['user_id'].value_counts() > 200"
   ]
  },
  {
   "cell_type": "code",
   "execution_count": 105,
   "metadata": {
    "ExecuteTime": {
     "end_time": "2023-04-21T02:38:36.947382Z",
     "start_time": "2023-04-21T02:38:36.896927Z"
    }
   },
   "outputs": [
    {
     "data": {
      "text/plain": "(899,)"
     },
     "execution_count": 105,
     "metadata": {},
     "output_type": "execute_result"
    }
   ],
   "source": [
    "x[x].shape"
   ]
  },
  {
   "cell_type": "code",
   "execution_count": 106,
   "metadata": {
    "ExecuteTime": {
     "end_time": "2023-04-21T02:38:38.441712Z",
     "start_time": "2023-04-21T02:38:38.379144Z"
    }
   },
   "outputs": [],
   "source": [
    "y= x[x].index"
   ]
  },
  {
   "cell_type": "code",
   "execution_count": 107,
   "metadata": {
    "ExecuteTime": {
     "end_time": "2023-04-21T02:38:39.507141Z",
     "start_time": "2023-04-21T02:38:39.469152Z"
    }
   },
   "outputs": [
    {
     "data": {
      "text/plain": "Int64Index([ 11676, 198711, 153662,  98391,  35859, 212898, 278418,  76352,\n            110973, 235105,\n            ...\n            260183,  73681,  44296, 155916,   9856, 274808,  28634,  59727,\n            268622, 188951],\n           dtype='int64', length=899)"
     },
     "execution_count": 107,
     "metadata": {},
     "output_type": "execute_result"
    }
   ],
   "source": [
    "y"
   ]
  },
  {
   "cell_type": "code",
   "execution_count": 108,
   "metadata": {
    "ExecuteTime": {
     "end_time": "2023-04-21T02:38:40.693668Z",
     "start_time": "2023-04-21T02:38:40.602115Z"
    }
   },
   "outputs": [],
   "source": [
    "ratings = ratings[ratings['user_id'].isin(y)]"
   ]
  },
  {
   "cell_type": "code",
   "execution_count": 109,
   "metadata": {
    "ExecuteTime": {
     "end_time": "2023-04-21T02:38:41.741184Z",
     "start_time": "2023-04-21T02:38:41.604181Z"
    }
   },
   "outputs": [
    {
     "data": {
      "text/plain": "      user_id        ISBN  rating\n1456   277427  002542730X      10\n1457   277427  0026217457       0\n1458   277427  003008685X       8\n1459   277427  0030615321       0\n1460   277427  0060002050       0",
      "text/html": "<div>\n<style scoped>\n    .dataframe tbody tr th:only-of-type {\n        vertical-align: middle;\n    }\n\n    .dataframe tbody tr th {\n        vertical-align: top;\n    }\n\n    .dataframe thead th {\n        text-align: right;\n    }\n</style>\n<table border=\"1\" class=\"dataframe\">\n  <thead>\n    <tr style=\"text-align: right;\">\n      <th></th>\n      <th>user_id</th>\n      <th>ISBN</th>\n      <th>rating</th>\n    </tr>\n  </thead>\n  <tbody>\n    <tr>\n      <th>1456</th>\n      <td>277427</td>\n      <td>002542730X</td>\n      <td>10</td>\n    </tr>\n    <tr>\n      <th>1457</th>\n      <td>277427</td>\n      <td>0026217457</td>\n      <td>0</td>\n    </tr>\n    <tr>\n      <th>1458</th>\n      <td>277427</td>\n      <td>003008685X</td>\n      <td>8</td>\n    </tr>\n    <tr>\n      <th>1459</th>\n      <td>277427</td>\n      <td>0030615321</td>\n      <td>0</td>\n    </tr>\n    <tr>\n      <th>1460</th>\n      <td>277427</td>\n      <td>0060002050</td>\n      <td>0</td>\n    </tr>\n  </tbody>\n</table>\n</div>"
     },
     "execution_count": 109,
     "metadata": {},
     "output_type": "execute_result"
    }
   ],
   "source": [
    "ratings.head()"
   ]
  },
  {
   "cell_type": "code",
   "execution_count": 110,
   "metadata": {
    "ExecuteTime": {
     "end_time": "2023-04-21T02:38:42.760285Z",
     "start_time": "2023-04-21T02:38:42.735805Z"
    }
   },
   "outputs": [
    {
     "data": {
      "text/plain": "(526356, 3)"
     },
     "execution_count": 110,
     "metadata": {},
     "output_type": "execute_result"
    }
   ],
   "source": [
    "ratings.shape"
   ]
  },
  {
   "cell_type": "code",
   "execution_count": 111,
   "metadata": {
    "ExecuteTime": {
     "end_time": "2023-04-21T02:38:44.895772Z",
     "start_time": "2023-04-21T02:38:44.176290Z"
    }
   },
   "outputs": [],
   "source": [
    "# Now join ratings with books\n",
    "\n",
    "ratings_with_books = ratings.merge(books, on='ISBN')"
   ]
  },
  {
   "cell_type": "code",
   "execution_count": 112,
   "metadata": {
    "ExecuteTime": {
     "end_time": "2023-04-21T02:38:48.055194Z",
     "start_time": "2023-04-21T02:38:47.982440Z"
    }
   },
   "outputs": [
    {
     "data": {
      "text/plain": "   user_id        ISBN  rating  \\\n0   277427  002542730X      10   \n1     3363  002542730X       0   \n2    11676  002542730X       6   \n3    12538  002542730X      10   \n4    13552  002542730X       0   \n\n                                               title             author  year  \\\n0  Politically Correct Bedtime Stories: Modern Ta...  James Finn Garner  1994   \n1  Politically Correct Bedtime Stories: Modern Ta...  James Finn Garner  1994   \n2  Politically Correct Bedtime Stories: Modern Ta...  James Finn Garner  1994   \n3  Politically Correct Bedtime Stories: Modern Ta...  James Finn Garner  1994   \n4  Politically Correct Bedtime Stories: Modern Ta...  James Finn Garner  1994   \n\n                   publisher  \\\n0  John Wiley &amp; Sons Inc   \n1  John Wiley &amp; Sons Inc   \n2  John Wiley &amp; Sons Inc   \n3  John Wiley &amp; Sons Inc   \n4  John Wiley &amp; Sons Inc   \n\n                                           image_url  \n0  http://images.amazon.com/images/P/002542730X.0...  \n1  http://images.amazon.com/images/P/002542730X.0...  \n2  http://images.amazon.com/images/P/002542730X.0...  \n3  http://images.amazon.com/images/P/002542730X.0...  \n4  http://images.amazon.com/images/P/002542730X.0...  ",
      "text/html": "<div>\n<style scoped>\n    .dataframe tbody tr th:only-of-type {\n        vertical-align: middle;\n    }\n\n    .dataframe tbody tr th {\n        vertical-align: top;\n    }\n\n    .dataframe thead th {\n        text-align: right;\n    }\n</style>\n<table border=\"1\" class=\"dataframe\">\n  <thead>\n    <tr style=\"text-align: right;\">\n      <th></th>\n      <th>user_id</th>\n      <th>ISBN</th>\n      <th>rating</th>\n      <th>title</th>\n      <th>author</th>\n      <th>year</th>\n      <th>publisher</th>\n      <th>image_url</th>\n    </tr>\n  </thead>\n  <tbody>\n    <tr>\n      <th>0</th>\n      <td>277427</td>\n      <td>002542730X</td>\n      <td>10</td>\n      <td>Politically Correct Bedtime Stories: Modern Ta...</td>\n      <td>James Finn Garner</td>\n      <td>1994</td>\n      <td>John Wiley &amp;amp; Sons Inc</td>\n      <td>http://images.amazon.com/images/P/002542730X.0...</td>\n    </tr>\n    <tr>\n      <th>1</th>\n      <td>3363</td>\n      <td>002542730X</td>\n      <td>0</td>\n      <td>Politically Correct Bedtime Stories: Modern Ta...</td>\n      <td>James Finn Garner</td>\n      <td>1994</td>\n      <td>John Wiley &amp;amp; Sons Inc</td>\n      <td>http://images.amazon.com/images/P/002542730X.0...</td>\n    </tr>\n    <tr>\n      <th>2</th>\n      <td>11676</td>\n      <td>002542730X</td>\n      <td>6</td>\n      <td>Politically Correct Bedtime Stories: Modern Ta...</td>\n      <td>James Finn Garner</td>\n      <td>1994</td>\n      <td>John Wiley &amp;amp; Sons Inc</td>\n      <td>http://images.amazon.com/images/P/002542730X.0...</td>\n    </tr>\n    <tr>\n      <th>3</th>\n      <td>12538</td>\n      <td>002542730X</td>\n      <td>10</td>\n      <td>Politically Correct Bedtime Stories: Modern Ta...</td>\n      <td>James Finn Garner</td>\n      <td>1994</td>\n      <td>John Wiley &amp;amp; Sons Inc</td>\n      <td>http://images.amazon.com/images/P/002542730X.0...</td>\n    </tr>\n    <tr>\n      <th>4</th>\n      <td>13552</td>\n      <td>002542730X</td>\n      <td>0</td>\n      <td>Politically Correct Bedtime Stories: Modern Ta...</td>\n      <td>James Finn Garner</td>\n      <td>1994</td>\n      <td>John Wiley &amp;amp; Sons Inc</td>\n      <td>http://images.amazon.com/images/P/002542730X.0...</td>\n    </tr>\n  </tbody>\n</table>\n</div>"
     },
     "execution_count": 112,
     "metadata": {},
     "output_type": "execute_result"
    }
   ],
   "source": [
    "ratings_with_books.head()"
   ]
  },
  {
   "cell_type": "code",
   "execution_count": 113,
   "metadata": {
    "ExecuteTime": {
     "end_time": "2023-04-21T02:38:49.012205Z",
     "start_time": "2023-04-21T02:38:48.994026Z"
    }
   },
   "outputs": [
    {
     "data": {
      "text/plain": "(487671, 8)"
     },
     "execution_count": 113,
     "metadata": {},
     "output_type": "execute_result"
    }
   ],
   "source": [
    "ratings_with_books.shape"
   ]
  },
  {
   "cell_type": "code",
   "execution_count": 114,
   "metadata": {
    "ExecuteTime": {
     "end_time": "2023-04-21T02:38:50.561692Z",
     "start_time": "2023-04-21T02:38:50.042390Z"
    }
   },
   "outputs": [],
   "source": [
    "number_rating = ratings_with_books.groupby('title')['rating'].count().reset_index()"
   ]
  },
  {
   "cell_type": "code",
   "execution_count": 115,
   "metadata": {
    "ExecuteTime": {
     "end_time": "2023-04-21T02:38:51.673800Z",
     "start_time": "2023-04-21T02:38:51.649395Z"
    }
   },
   "outputs": [
    {
     "data": {
      "text/plain": "                                               title  rating\n0   A Light in the Storm: The Civil War Diary of ...       2\n1                              Always Have Popsicles       1\n2               Apple Magic (The Collector's series)       1\n3   Beyond IBM: Leadership Marketing and Finance ...       1\n4   Clifford Visita El Hospital (Clifford El Gran...       1",
      "text/html": "<div>\n<style scoped>\n    .dataframe tbody tr th:only-of-type {\n        vertical-align: middle;\n    }\n\n    .dataframe tbody tr th {\n        vertical-align: top;\n    }\n\n    .dataframe thead th {\n        text-align: right;\n    }\n</style>\n<table border=\"1\" class=\"dataframe\">\n  <thead>\n    <tr style=\"text-align: right;\">\n      <th></th>\n      <th>title</th>\n      <th>rating</th>\n    </tr>\n  </thead>\n  <tbody>\n    <tr>\n      <th>0</th>\n      <td>A Light in the Storm: The Civil War Diary of ...</td>\n      <td>2</td>\n    </tr>\n    <tr>\n      <th>1</th>\n      <td>Always Have Popsicles</td>\n      <td>1</td>\n    </tr>\n    <tr>\n      <th>2</th>\n      <td>Apple Magic (The Collector's series)</td>\n      <td>1</td>\n    </tr>\n    <tr>\n      <th>3</th>\n      <td>Beyond IBM: Leadership Marketing and Finance ...</td>\n      <td>1</td>\n    </tr>\n    <tr>\n      <th>4</th>\n      <td>Clifford Visita El Hospital (Clifford El Gran...</td>\n      <td>1</td>\n    </tr>\n  </tbody>\n</table>\n</div>"
     },
     "execution_count": 115,
     "metadata": {},
     "output_type": "execute_result"
    }
   ],
   "source": [
    "number_rating.head()"
   ]
  },
  {
   "cell_type": "code",
   "execution_count": 116,
   "metadata": {
    "ExecuteTime": {
     "end_time": "2023-04-21T02:38:52.732023Z",
     "start_time": "2023-04-21T02:38:52.681430Z"
    }
   },
   "outputs": [],
   "source": [
    "number_rating.rename(columns={'rating':'num_of_rating'},inplace=True)"
   ]
  },
  {
   "cell_type": "code",
   "execution_count": 117,
   "metadata": {
    "ExecuteTime": {
     "end_time": "2023-04-21T02:38:53.716164Z",
     "start_time": "2023-04-21T02:38:53.698155Z"
    }
   },
   "outputs": [
    {
     "data": {
      "text/plain": "                                               title  num_of_rating\n0   A Light in the Storm: The Civil War Diary of ...              2\n1                              Always Have Popsicles              1\n2               Apple Magic (The Collector's series)              1\n3   Beyond IBM: Leadership Marketing and Finance ...              1\n4   Clifford Visita El Hospital (Clifford El Gran...              1",
      "text/html": "<div>\n<style scoped>\n    .dataframe tbody tr th:only-of-type {\n        vertical-align: middle;\n    }\n\n    .dataframe tbody tr th {\n        vertical-align: top;\n    }\n\n    .dataframe thead th {\n        text-align: right;\n    }\n</style>\n<table border=\"1\" class=\"dataframe\">\n  <thead>\n    <tr style=\"text-align: right;\">\n      <th></th>\n      <th>title</th>\n      <th>num_of_rating</th>\n    </tr>\n  </thead>\n  <tbody>\n    <tr>\n      <th>0</th>\n      <td>A Light in the Storm: The Civil War Diary of ...</td>\n      <td>2</td>\n    </tr>\n    <tr>\n      <th>1</th>\n      <td>Always Have Popsicles</td>\n      <td>1</td>\n    </tr>\n    <tr>\n      <th>2</th>\n      <td>Apple Magic (The Collector's series)</td>\n      <td>1</td>\n    </tr>\n    <tr>\n      <th>3</th>\n      <td>Beyond IBM: Leadership Marketing and Finance ...</td>\n      <td>1</td>\n    </tr>\n    <tr>\n      <th>4</th>\n      <td>Clifford Visita El Hospital (Clifford El Gran...</td>\n      <td>1</td>\n    </tr>\n  </tbody>\n</table>\n</div>"
     },
     "execution_count": 117,
     "metadata": {},
     "output_type": "execute_result"
    }
   ],
   "source": [
    "number_rating.head()"
   ]
  },
  {
   "cell_type": "code",
   "execution_count": 118,
   "metadata": {
    "ExecuteTime": {
     "end_time": "2023-04-21T02:38:55.484799Z",
     "start_time": "2023-04-21T02:38:55.160208Z"
    }
   },
   "outputs": [],
   "source": [
    "final_rating = ratings_with_books.merge(number_rating, on='title')"
   ]
  },
  {
   "cell_type": "code",
   "execution_count": 119,
   "metadata": {
    "ExecuteTime": {
     "end_time": "2023-04-21T02:38:56.966227Z",
     "start_time": "2023-04-21T02:38:56.904888Z"
    }
   },
   "outputs": [
    {
     "data": {
      "text/plain": "   user_id        ISBN  rating  \\\n0   277427  002542730X      10   \n1     3363  002542730X       0   \n2    11676  002542730X       6   \n3    12538  002542730X      10   \n4    13552  002542730X       0   \n\n                                               title             author  year  \\\n0  Politically Correct Bedtime Stories: Modern Ta...  James Finn Garner  1994   \n1  Politically Correct Bedtime Stories: Modern Ta...  James Finn Garner  1994   \n2  Politically Correct Bedtime Stories: Modern Ta...  James Finn Garner  1994   \n3  Politically Correct Bedtime Stories: Modern Ta...  James Finn Garner  1994   \n4  Politically Correct Bedtime Stories: Modern Ta...  James Finn Garner  1994   \n\n                   publisher  \\\n0  John Wiley &amp; Sons Inc   \n1  John Wiley &amp; Sons Inc   \n2  John Wiley &amp; Sons Inc   \n3  John Wiley &amp; Sons Inc   \n4  John Wiley &amp; Sons Inc   \n\n                                           image_url  num_of_rating  \n0  http://images.amazon.com/images/P/002542730X.0...             82  \n1  http://images.amazon.com/images/P/002542730X.0...             82  \n2  http://images.amazon.com/images/P/002542730X.0...             82  \n3  http://images.amazon.com/images/P/002542730X.0...             82  \n4  http://images.amazon.com/images/P/002542730X.0...             82  ",
      "text/html": "<div>\n<style scoped>\n    .dataframe tbody tr th:only-of-type {\n        vertical-align: middle;\n    }\n\n    .dataframe tbody tr th {\n        vertical-align: top;\n    }\n\n    .dataframe thead th {\n        text-align: right;\n    }\n</style>\n<table border=\"1\" class=\"dataframe\">\n  <thead>\n    <tr style=\"text-align: right;\">\n      <th></th>\n      <th>user_id</th>\n      <th>ISBN</th>\n      <th>rating</th>\n      <th>title</th>\n      <th>author</th>\n      <th>year</th>\n      <th>publisher</th>\n      <th>image_url</th>\n      <th>num_of_rating</th>\n    </tr>\n  </thead>\n  <tbody>\n    <tr>\n      <th>0</th>\n      <td>277427</td>\n      <td>002542730X</td>\n      <td>10</td>\n      <td>Politically Correct Bedtime Stories: Modern Ta...</td>\n      <td>James Finn Garner</td>\n      <td>1994</td>\n      <td>John Wiley &amp;amp; Sons Inc</td>\n      <td>http://images.amazon.com/images/P/002542730X.0...</td>\n      <td>82</td>\n    </tr>\n    <tr>\n      <th>1</th>\n      <td>3363</td>\n      <td>002542730X</td>\n      <td>0</td>\n      <td>Politically Correct Bedtime Stories: Modern Ta...</td>\n      <td>James Finn Garner</td>\n      <td>1994</td>\n      <td>John Wiley &amp;amp; Sons Inc</td>\n      <td>http://images.amazon.com/images/P/002542730X.0...</td>\n      <td>82</td>\n    </tr>\n    <tr>\n      <th>2</th>\n      <td>11676</td>\n      <td>002542730X</td>\n      <td>6</td>\n      <td>Politically Correct Bedtime Stories: Modern Ta...</td>\n      <td>James Finn Garner</td>\n      <td>1994</td>\n      <td>John Wiley &amp;amp; Sons Inc</td>\n      <td>http://images.amazon.com/images/P/002542730X.0...</td>\n      <td>82</td>\n    </tr>\n    <tr>\n      <th>3</th>\n      <td>12538</td>\n      <td>002542730X</td>\n      <td>10</td>\n      <td>Politically Correct Bedtime Stories: Modern Ta...</td>\n      <td>James Finn Garner</td>\n      <td>1994</td>\n      <td>John Wiley &amp;amp; Sons Inc</td>\n      <td>http://images.amazon.com/images/P/002542730X.0...</td>\n      <td>82</td>\n    </tr>\n    <tr>\n      <th>4</th>\n      <td>13552</td>\n      <td>002542730X</td>\n      <td>0</td>\n      <td>Politically Correct Bedtime Stories: Modern Ta...</td>\n      <td>James Finn Garner</td>\n      <td>1994</td>\n      <td>John Wiley &amp;amp; Sons Inc</td>\n      <td>http://images.amazon.com/images/P/002542730X.0...</td>\n      <td>82</td>\n    </tr>\n  </tbody>\n</table>\n</div>"
     },
     "execution_count": 119,
     "metadata": {},
     "output_type": "execute_result"
    }
   ],
   "source": [
    "final_rating.head()"
   ]
  },
  {
   "cell_type": "code",
   "execution_count": 120,
   "metadata": {
    "ExecuteTime": {
     "end_time": "2023-04-21T02:38:58.204830Z",
     "start_time": "2023-04-21T02:38:58.162934Z"
    }
   },
   "outputs": [
    {
     "data": {
      "text/plain": "(487671, 9)"
     },
     "execution_count": 120,
     "metadata": {},
     "output_type": "execute_result"
    }
   ],
   "source": [
    "final_rating.shape"
   ]
  },
  {
   "cell_type": "code",
   "execution_count": 121,
   "metadata": {
    "ExecuteTime": {
     "end_time": "2023-04-21T02:38:59.188490Z",
     "start_time": "2023-04-21T02:38:59.019029Z"
    }
   },
   "outputs": [],
   "source": [
    "# Lets take those books which got at least 50 rating of user\n",
    "\n",
    "final_rating = final_rating[final_rating['num_of_rating'] >= 50]"
   ]
  },
  {
   "cell_type": "code",
   "execution_count": 122,
   "metadata": {
    "ExecuteTime": {
     "end_time": "2023-04-21T02:39:02.622732Z",
     "start_time": "2023-04-21T02:39:02.551443Z"
    }
   },
   "outputs": [
    {
     "data": {
      "text/plain": "   user_id        ISBN  rating  \\\n0   277427  002542730X      10   \n1     3363  002542730X       0   \n2    11676  002542730X       6   \n3    12538  002542730X      10   \n4    13552  002542730X       0   \n\n                                               title             author  year  \\\n0  Politically Correct Bedtime Stories: Modern Ta...  James Finn Garner  1994   \n1  Politically Correct Bedtime Stories: Modern Ta...  James Finn Garner  1994   \n2  Politically Correct Bedtime Stories: Modern Ta...  James Finn Garner  1994   \n3  Politically Correct Bedtime Stories: Modern Ta...  James Finn Garner  1994   \n4  Politically Correct Bedtime Stories: Modern Ta...  James Finn Garner  1994   \n\n                   publisher  \\\n0  John Wiley &amp; Sons Inc   \n1  John Wiley &amp; Sons Inc   \n2  John Wiley &amp; Sons Inc   \n3  John Wiley &amp; Sons Inc   \n4  John Wiley &amp; Sons Inc   \n\n                                           image_url  num_of_rating  \n0  http://images.amazon.com/images/P/002542730X.0...             82  \n1  http://images.amazon.com/images/P/002542730X.0...             82  \n2  http://images.amazon.com/images/P/002542730X.0...             82  \n3  http://images.amazon.com/images/P/002542730X.0...             82  \n4  http://images.amazon.com/images/P/002542730X.0...             82  ",
      "text/html": "<div>\n<style scoped>\n    .dataframe tbody tr th:only-of-type {\n        vertical-align: middle;\n    }\n\n    .dataframe tbody tr th {\n        vertical-align: top;\n    }\n\n    .dataframe thead th {\n        text-align: right;\n    }\n</style>\n<table border=\"1\" class=\"dataframe\">\n  <thead>\n    <tr style=\"text-align: right;\">\n      <th></th>\n      <th>user_id</th>\n      <th>ISBN</th>\n      <th>rating</th>\n      <th>title</th>\n      <th>author</th>\n      <th>year</th>\n      <th>publisher</th>\n      <th>image_url</th>\n      <th>num_of_rating</th>\n    </tr>\n  </thead>\n  <tbody>\n    <tr>\n      <th>0</th>\n      <td>277427</td>\n      <td>002542730X</td>\n      <td>10</td>\n      <td>Politically Correct Bedtime Stories: Modern Ta...</td>\n      <td>James Finn Garner</td>\n      <td>1994</td>\n      <td>John Wiley &amp;amp; Sons Inc</td>\n      <td>http://images.amazon.com/images/P/002542730X.0...</td>\n      <td>82</td>\n    </tr>\n    <tr>\n      <th>1</th>\n      <td>3363</td>\n      <td>002542730X</td>\n      <td>0</td>\n      <td>Politically Correct Bedtime Stories: Modern Ta...</td>\n      <td>James Finn Garner</td>\n      <td>1994</td>\n      <td>John Wiley &amp;amp; Sons Inc</td>\n      <td>http://images.amazon.com/images/P/002542730X.0...</td>\n      <td>82</td>\n    </tr>\n    <tr>\n      <th>2</th>\n      <td>11676</td>\n      <td>002542730X</td>\n      <td>6</td>\n      <td>Politically Correct Bedtime Stories: Modern Ta...</td>\n      <td>James Finn Garner</td>\n      <td>1994</td>\n      <td>John Wiley &amp;amp; Sons Inc</td>\n      <td>http://images.amazon.com/images/P/002542730X.0...</td>\n      <td>82</td>\n    </tr>\n    <tr>\n      <th>3</th>\n      <td>12538</td>\n      <td>002542730X</td>\n      <td>10</td>\n      <td>Politically Correct Bedtime Stories: Modern Ta...</td>\n      <td>James Finn Garner</td>\n      <td>1994</td>\n      <td>John Wiley &amp;amp; Sons Inc</td>\n      <td>http://images.amazon.com/images/P/002542730X.0...</td>\n      <td>82</td>\n    </tr>\n    <tr>\n      <th>4</th>\n      <td>13552</td>\n      <td>002542730X</td>\n      <td>0</td>\n      <td>Politically Correct Bedtime Stories: Modern Ta...</td>\n      <td>James Finn Garner</td>\n      <td>1994</td>\n      <td>John Wiley &amp;amp; Sons Inc</td>\n      <td>http://images.amazon.com/images/P/002542730X.0...</td>\n      <td>82</td>\n    </tr>\n  </tbody>\n</table>\n</div>"
     },
     "execution_count": 122,
     "metadata": {},
     "output_type": "execute_result"
    }
   ],
   "source": [
    "final_rating.head()"
   ]
  },
  {
   "cell_type": "code",
   "execution_count": 123,
   "metadata": {
    "ExecuteTime": {
     "end_time": "2023-04-21T02:39:04.222499Z",
     "start_time": "2023-04-21T02:39:04.201805Z"
    }
   },
   "outputs": [
    {
     "data": {
      "text/plain": "(61853, 9)"
     },
     "execution_count": 123,
     "metadata": {},
     "output_type": "execute_result"
    }
   ],
   "source": [
    "final_rating.shape"
   ]
  },
  {
   "cell_type": "code",
   "execution_count": 124,
   "metadata": {
    "ExecuteTime": {
     "end_time": "2023-04-21T02:39:05.380343Z",
     "start_time": "2023-04-21T02:39:05.337978Z"
    }
   },
   "outputs": [],
   "source": [
    "# lets drop the duplicates\n",
    "final_rating.drop_duplicates(['user_id','title'],inplace=True)"
   ]
  },
  {
   "cell_type": "markdown",
   "metadata": {},
   "source": []
  },
  {
   "cell_type": "code",
   "execution_count": 124,
   "metadata": {},
   "outputs": [],
   "source": []
  },
  {
   "cell_type": "code",
   "execution_count": 125,
   "metadata": {
    "ExecuteTime": {
     "end_time": "2023-04-21T02:39:10.632040Z",
     "start_time": "2023-04-21T02:39:10.605831Z"
    }
   },
   "outputs": [
    {
     "data": {
      "text/plain": "(59850, 9)"
     },
     "execution_count": 125,
     "metadata": {},
     "output_type": "execute_result"
    }
   ],
   "source": [
    "final_rating.shape"
   ]
  },
  {
   "cell_type": "code",
   "execution_count": 126,
   "metadata": {
    "ExecuteTime": {
     "end_time": "2023-04-21T02:39:13.559528Z",
     "start_time": "2023-04-21T02:39:13.492654Z"
    }
   },
   "outputs": [],
   "source": [
    "# Lets create a pivot table\n",
    "book_pivot = final_rating.pivot_table(columns='user_id', index='title', values= 'rating')"
   ]
  },
  {
   "cell_type": "code",
   "execution_count": 127,
   "metadata": {
    "ExecuteTime": {
     "end_time": "2023-04-21T02:39:14.706919Z",
     "start_time": "2023-04-21T02:39:14.622443Z"
    }
   },
   "outputs": [
    {
     "data": {
      "text/plain": "user_id                                             254     2276    2766    \\\ntitle                                                                        \n1984                                                   9.0     NaN     NaN   \n1st to Die: A Novel                                    NaN     NaN     NaN   \n2nd Chance                                             NaN    10.0     NaN   \n4 Blondes                                              NaN     NaN     NaN   \n84 Charing Cross Road                                  NaN     NaN     NaN   \n...                                                    ...     ...     ...   \nYear of Wonders                                        NaN     NaN     NaN   \nYou Belong To Me                                       NaN     NaN     NaN   \nZen and the Art of Motorcycle Maintenance: An I...     NaN     NaN     NaN   \nZoya                                                   NaN     NaN     NaN   \n\\O\\\" Is for Outlaw\"                                    NaN     NaN     NaN   \n\nuser_id                                             2977    3363    3757    \\\ntitle                                                                        \n1984                                                   NaN     NaN     NaN   \n1st to Die: A Novel                                    NaN     NaN     NaN   \n2nd Chance                                             NaN     NaN     NaN   \n4 Blondes                                              NaN     NaN     NaN   \n84 Charing Cross Road                                  NaN     NaN     NaN   \n...                                                    ...     ...     ...   \nYear of Wonders                                        7.0     NaN     NaN   \nYou Belong To Me                                       NaN     NaN     NaN   \nZen and the Art of Motorcycle Maintenance: An I...     NaN     0.0     NaN   \nZoya                                                   NaN     NaN     NaN   \n\\O\\\" Is for Outlaw\"                                    NaN     NaN     NaN   \n\nuser_id                                             4017    4385    6242    \\\ntitle                                                                        \n1984                                                   NaN     NaN     NaN   \n1st to Die: A Novel                                    NaN     NaN     NaN   \n2nd Chance                                             NaN     NaN     NaN   \n4 Blondes                                              NaN     NaN     NaN   \n84 Charing Cross Road                                  NaN     NaN     NaN   \n...                                                    ...     ...     ...   \nYear of Wonders                                        NaN     NaN     7.0   \nYou Belong To Me                                       NaN     NaN     NaN   \nZen and the Art of Motorcycle Maintenance: An I...     NaN     NaN     NaN   \nZoya                                                   NaN     NaN     NaN   \n\\O\\\" Is for Outlaw\"                                    NaN     NaN     NaN   \n\nuser_id                                             6251    ...  274004  \\\ntitle                                                       ...           \n1984                                                   NaN  ...     NaN   \n1st to Die: A Novel                                    NaN  ...     NaN   \n2nd Chance                                             NaN  ...     NaN   \n4 Blondes                                              0.0  ...     NaN   \n84 Charing Cross Road                                  NaN  ...     NaN   \n...                                                    ...  ...     ...   \nYear of Wonders                                        NaN  ...     NaN   \nYou Belong To Me                                       NaN  ...     NaN   \nZen and the Art of Motorcycle Maintenance: An I...     0.0  ...     NaN   \nZoya                                                   NaN  ...     NaN   \n\\O\\\" Is for Outlaw\"                                    NaN  ...     NaN   \n\nuser_id                                             274061  274301  274308  \\\ntitle                                                                        \n1984                                                   NaN     NaN     NaN   \n1st to Die: A Novel                                    NaN     NaN     NaN   \n2nd Chance                                             NaN     NaN     0.0   \n4 Blondes                                              NaN     NaN     NaN   \n84 Charing Cross Road                                  NaN     NaN     NaN   \n...                                                    ...     ...     ...   \nYear of Wonders                                        NaN     NaN     NaN   \nYou Belong To Me                                       NaN     NaN     NaN   \nZen and the Art of Motorcycle Maintenance: An I...     NaN     NaN     NaN   \nZoya                                                   NaN     NaN     NaN   \n\\O\\\" Is for Outlaw\"                                    NaN     8.0     NaN   \n\nuser_id                                             274808  275970  277427  \\\ntitle                                                                        \n1984                                                   NaN     0.0     NaN   \n1st to Die: A Novel                                    NaN     NaN     NaN   \n2nd Chance                                             NaN     NaN     NaN   \n4 Blondes                                              NaN     NaN     NaN   \n84 Charing Cross Road                                  NaN    10.0     NaN   \n...                                                    ...     ...     ...   \nYear of Wonders                                        NaN     0.0     NaN   \nYou Belong To Me                                       NaN     NaN     NaN   \nZen and the Art of Motorcycle Maintenance: An I...     NaN     0.0     NaN   \nZoya                                                   NaN     NaN     NaN   \n\\O\\\" Is for Outlaw\"                                    NaN     NaN     NaN   \n\nuser_id                                             277478  277639  278418  \ntitle                                                                       \n1984                                                   NaN     NaN     NaN  \n1st to Die: A Novel                                    NaN     NaN     NaN  \n2nd Chance                                             NaN     0.0     NaN  \n4 Blondes                                              NaN     NaN     NaN  \n84 Charing Cross Road                                  NaN     NaN     NaN  \n...                                                    ...     ...     ...  \nYear of Wonders                                        NaN     NaN     NaN  \nYou Belong To Me                                       NaN     NaN     NaN  \nZen and the Art of Motorcycle Maintenance: An I...     NaN     NaN     NaN  \nZoya                                                   NaN     NaN     NaN  \n\\O\\\" Is for Outlaw\"                                    NaN     NaN     NaN  \n\n[742 rows x 888 columns]",
      "text/html": "<div>\n<style scoped>\n    .dataframe tbody tr th:only-of-type {\n        vertical-align: middle;\n    }\n\n    .dataframe tbody tr th {\n        vertical-align: top;\n    }\n\n    .dataframe thead th {\n        text-align: right;\n    }\n</style>\n<table border=\"1\" class=\"dataframe\">\n  <thead>\n    <tr style=\"text-align: right;\">\n      <th>user_id</th>\n      <th>254</th>\n      <th>2276</th>\n      <th>2766</th>\n      <th>2977</th>\n      <th>3363</th>\n      <th>3757</th>\n      <th>4017</th>\n      <th>4385</th>\n      <th>6242</th>\n      <th>6251</th>\n      <th>...</th>\n      <th>274004</th>\n      <th>274061</th>\n      <th>274301</th>\n      <th>274308</th>\n      <th>274808</th>\n      <th>275970</th>\n      <th>277427</th>\n      <th>277478</th>\n      <th>277639</th>\n      <th>278418</th>\n    </tr>\n    <tr>\n      <th>title</th>\n      <th></th>\n      <th></th>\n      <th></th>\n      <th></th>\n      <th></th>\n      <th></th>\n      <th></th>\n      <th></th>\n      <th></th>\n      <th></th>\n      <th></th>\n      <th></th>\n      <th></th>\n      <th></th>\n      <th></th>\n      <th></th>\n      <th></th>\n      <th></th>\n      <th></th>\n      <th></th>\n      <th></th>\n    </tr>\n  </thead>\n  <tbody>\n    <tr>\n      <th>1984</th>\n      <td>9.0</td>\n      <td>NaN</td>\n      <td>NaN</td>\n      <td>NaN</td>\n      <td>NaN</td>\n      <td>NaN</td>\n      <td>NaN</td>\n      <td>NaN</td>\n      <td>NaN</td>\n      <td>NaN</td>\n      <td>...</td>\n      <td>NaN</td>\n      <td>NaN</td>\n      <td>NaN</td>\n      <td>NaN</td>\n      <td>NaN</td>\n      <td>0.0</td>\n      <td>NaN</td>\n      <td>NaN</td>\n      <td>NaN</td>\n      <td>NaN</td>\n    </tr>\n    <tr>\n      <th>1st to Die: A Novel</th>\n      <td>NaN</td>\n      <td>NaN</td>\n      <td>NaN</td>\n      <td>NaN</td>\n      <td>NaN</td>\n      <td>NaN</td>\n      <td>NaN</td>\n      <td>NaN</td>\n      <td>NaN</td>\n      <td>NaN</td>\n      <td>...</td>\n      <td>NaN</td>\n      <td>NaN</td>\n      <td>NaN</td>\n      <td>NaN</td>\n      <td>NaN</td>\n      <td>NaN</td>\n      <td>NaN</td>\n      <td>NaN</td>\n      <td>NaN</td>\n      <td>NaN</td>\n    </tr>\n    <tr>\n      <th>2nd Chance</th>\n      <td>NaN</td>\n      <td>10.0</td>\n      <td>NaN</td>\n      <td>NaN</td>\n      <td>NaN</td>\n      <td>NaN</td>\n      <td>NaN</td>\n      <td>NaN</td>\n      <td>NaN</td>\n      <td>NaN</td>\n      <td>...</td>\n      <td>NaN</td>\n      <td>NaN</td>\n      <td>NaN</td>\n      <td>0.0</td>\n      <td>NaN</td>\n      <td>NaN</td>\n      <td>NaN</td>\n      <td>NaN</td>\n      <td>0.0</td>\n      <td>NaN</td>\n    </tr>\n    <tr>\n      <th>4 Blondes</th>\n      <td>NaN</td>\n      <td>NaN</td>\n      <td>NaN</td>\n      <td>NaN</td>\n      <td>NaN</td>\n      <td>NaN</td>\n      <td>NaN</td>\n      <td>NaN</td>\n      <td>NaN</td>\n      <td>0.0</td>\n      <td>...</td>\n      <td>NaN</td>\n      <td>NaN</td>\n      <td>NaN</td>\n      <td>NaN</td>\n      <td>NaN</td>\n      <td>NaN</td>\n      <td>NaN</td>\n      <td>NaN</td>\n      <td>NaN</td>\n      <td>NaN</td>\n    </tr>\n    <tr>\n      <th>84 Charing Cross Road</th>\n      <td>NaN</td>\n      <td>NaN</td>\n      <td>NaN</td>\n      <td>NaN</td>\n      <td>NaN</td>\n      <td>NaN</td>\n      <td>NaN</td>\n      <td>NaN</td>\n      <td>NaN</td>\n      <td>NaN</td>\n      <td>...</td>\n      <td>NaN</td>\n      <td>NaN</td>\n      <td>NaN</td>\n      <td>NaN</td>\n      <td>NaN</td>\n      <td>10.0</td>\n      <td>NaN</td>\n      <td>NaN</td>\n      <td>NaN</td>\n      <td>NaN</td>\n    </tr>\n    <tr>\n      <th>...</th>\n      <td>...</td>\n      <td>...</td>\n      <td>...</td>\n      <td>...</td>\n      <td>...</td>\n      <td>...</td>\n      <td>...</td>\n      <td>...</td>\n      <td>...</td>\n      <td>...</td>\n      <td>...</td>\n      <td>...</td>\n      <td>...</td>\n      <td>...</td>\n      <td>...</td>\n      <td>...</td>\n      <td>...</td>\n      <td>...</td>\n      <td>...</td>\n      <td>...</td>\n      <td>...</td>\n    </tr>\n    <tr>\n      <th>Year of Wonders</th>\n      <td>NaN</td>\n      <td>NaN</td>\n      <td>NaN</td>\n      <td>7.0</td>\n      <td>NaN</td>\n      <td>NaN</td>\n      <td>NaN</td>\n      <td>NaN</td>\n      <td>7.0</td>\n      <td>NaN</td>\n      <td>...</td>\n      <td>NaN</td>\n      <td>NaN</td>\n      <td>NaN</td>\n      <td>NaN</td>\n      <td>NaN</td>\n      <td>0.0</td>\n      <td>NaN</td>\n      <td>NaN</td>\n      <td>NaN</td>\n      <td>NaN</td>\n    </tr>\n    <tr>\n      <th>You Belong To Me</th>\n      <td>NaN</td>\n      <td>NaN</td>\n      <td>NaN</td>\n      <td>NaN</td>\n      <td>NaN</td>\n      <td>NaN</td>\n      <td>NaN</td>\n      <td>NaN</td>\n      <td>NaN</td>\n      <td>NaN</td>\n      <td>...</td>\n      <td>NaN</td>\n      <td>NaN</td>\n      <td>NaN</td>\n      <td>NaN</td>\n      <td>NaN</td>\n      <td>NaN</td>\n      <td>NaN</td>\n      <td>NaN</td>\n      <td>NaN</td>\n      <td>NaN</td>\n    </tr>\n    <tr>\n      <th>Zen and the Art of Motorcycle Maintenance: An Inquiry into Values</th>\n      <td>NaN</td>\n      <td>NaN</td>\n      <td>NaN</td>\n      <td>NaN</td>\n      <td>0.0</td>\n      <td>NaN</td>\n      <td>NaN</td>\n      <td>NaN</td>\n      <td>NaN</td>\n      <td>0.0</td>\n      <td>...</td>\n      <td>NaN</td>\n      <td>NaN</td>\n      <td>NaN</td>\n      <td>NaN</td>\n      <td>NaN</td>\n      <td>0.0</td>\n      <td>NaN</td>\n      <td>NaN</td>\n      <td>NaN</td>\n      <td>NaN</td>\n    </tr>\n    <tr>\n      <th>Zoya</th>\n      <td>NaN</td>\n      <td>NaN</td>\n      <td>NaN</td>\n      <td>NaN</td>\n      <td>NaN</td>\n      <td>NaN</td>\n      <td>NaN</td>\n      <td>NaN</td>\n      <td>NaN</td>\n      <td>NaN</td>\n      <td>...</td>\n      <td>NaN</td>\n      <td>NaN</td>\n      <td>NaN</td>\n      <td>NaN</td>\n      <td>NaN</td>\n      <td>NaN</td>\n      <td>NaN</td>\n      <td>NaN</td>\n      <td>NaN</td>\n      <td>NaN</td>\n    </tr>\n    <tr>\n      <th>\\O\\\" Is for Outlaw\"</th>\n      <td>NaN</td>\n      <td>NaN</td>\n      <td>NaN</td>\n      <td>NaN</td>\n      <td>NaN</td>\n      <td>NaN</td>\n      <td>NaN</td>\n      <td>NaN</td>\n      <td>NaN</td>\n      <td>NaN</td>\n      <td>...</td>\n      <td>NaN</td>\n      <td>NaN</td>\n      <td>8.0</td>\n      <td>NaN</td>\n      <td>NaN</td>\n      <td>NaN</td>\n      <td>NaN</td>\n      <td>NaN</td>\n      <td>NaN</td>\n      <td>NaN</td>\n    </tr>\n  </tbody>\n</table>\n<p>742 rows × 888 columns</p>\n</div>"
     },
     "execution_count": 127,
     "metadata": {},
     "output_type": "execute_result"
    }
   ],
   "source": [
    "book_pivot"
   ]
  },
  {
   "cell_type": "code",
   "execution_count": 128,
   "metadata": {
    "ExecuteTime": {
     "end_time": "2023-04-21T02:39:16.422505Z",
     "start_time": "2023-04-21T02:39:16.334908Z"
    }
   },
   "outputs": [
    {
     "data": {
      "text/plain": "(742, 888)"
     },
     "execution_count": 128,
     "metadata": {},
     "output_type": "execute_result"
    }
   ],
   "source": [
    "book_pivot.shape"
   ]
  },
  {
   "cell_type": "code",
   "execution_count": 129,
   "metadata": {
    "ExecuteTime": {
     "end_time": "2023-04-21T02:39:17.854767Z",
     "start_time": "2023-04-21T02:39:17.716607Z"
    }
   },
   "outputs": [],
   "source": [
    "book_pivot.fillna(0, inplace=True)"
   ]
  },
  {
   "cell_type": "code",
   "execution_count": 130,
   "metadata": {
    "ExecuteTime": {
     "end_time": "2023-04-21T02:39:18.781867Z",
     "start_time": "2023-04-21T02:39:18.679851Z"
    }
   },
   "outputs": [
    {
     "data": {
      "text/plain": "user_id                                             254     2276    2766    \\\ntitle                                                                        \n1984                                                   9.0     0.0     0.0   \n1st to Die: A Novel                                    0.0     0.0     0.0   \n2nd Chance                                             0.0    10.0     0.0   \n4 Blondes                                              0.0     0.0     0.0   \n84 Charing Cross Road                                  0.0     0.0     0.0   \n...                                                    ...     ...     ...   \nYear of Wonders                                        0.0     0.0     0.0   \nYou Belong To Me                                       0.0     0.0     0.0   \nZen and the Art of Motorcycle Maintenance: An I...     0.0     0.0     0.0   \nZoya                                                   0.0     0.0     0.0   \n\\O\\\" Is for Outlaw\"                                    0.0     0.0     0.0   \n\nuser_id                                             2977    3363    3757    \\\ntitle                                                                        \n1984                                                   0.0     0.0     0.0   \n1st to Die: A Novel                                    0.0     0.0     0.0   \n2nd Chance                                             0.0     0.0     0.0   \n4 Blondes                                              0.0     0.0     0.0   \n84 Charing Cross Road                                  0.0     0.0     0.0   \n...                                                    ...     ...     ...   \nYear of Wonders                                        7.0     0.0     0.0   \nYou Belong To Me                                       0.0     0.0     0.0   \nZen and the Art of Motorcycle Maintenance: An I...     0.0     0.0     0.0   \nZoya                                                   0.0     0.0     0.0   \n\\O\\\" Is for Outlaw\"                                    0.0     0.0     0.0   \n\nuser_id                                             4017    4385    6242    \\\ntitle                                                                        \n1984                                                   0.0     0.0     0.0   \n1st to Die: A Novel                                    0.0     0.0     0.0   \n2nd Chance                                             0.0     0.0     0.0   \n4 Blondes                                              0.0     0.0     0.0   \n84 Charing Cross Road                                  0.0     0.0     0.0   \n...                                                    ...     ...     ...   \nYear of Wonders                                        0.0     0.0     7.0   \nYou Belong To Me                                       0.0     0.0     0.0   \nZen and the Art of Motorcycle Maintenance: An I...     0.0     0.0     0.0   \nZoya                                                   0.0     0.0     0.0   \n\\O\\\" Is for Outlaw\"                                    0.0     0.0     0.0   \n\nuser_id                                             6251    ...  274004  \\\ntitle                                                       ...           \n1984                                                   0.0  ...     0.0   \n1st to Die: A Novel                                    0.0  ...     0.0   \n2nd Chance                                             0.0  ...     0.0   \n4 Blondes                                              0.0  ...     0.0   \n84 Charing Cross Road                                  0.0  ...     0.0   \n...                                                    ...  ...     ...   \nYear of Wonders                                        0.0  ...     0.0   \nYou Belong To Me                                       0.0  ...     0.0   \nZen and the Art of Motorcycle Maintenance: An I...     0.0  ...     0.0   \nZoya                                                   0.0  ...     0.0   \n\\O\\\" Is for Outlaw\"                                    0.0  ...     0.0   \n\nuser_id                                             274061  274301  274308  \\\ntitle                                                                        \n1984                                                   0.0     0.0     0.0   \n1st to Die: A Novel                                    0.0     0.0     0.0   \n2nd Chance                                             0.0     0.0     0.0   \n4 Blondes                                              0.0     0.0     0.0   \n84 Charing Cross Road                                  0.0     0.0     0.0   \n...                                                    ...     ...     ...   \nYear of Wonders                                        0.0     0.0     0.0   \nYou Belong To Me                                       0.0     0.0     0.0   \nZen and the Art of Motorcycle Maintenance: An I...     0.0     0.0     0.0   \nZoya                                                   0.0     0.0     0.0   \n\\O\\\" Is for Outlaw\"                                    0.0     8.0     0.0   \n\nuser_id                                             274808  275970  277427  \\\ntitle                                                                        \n1984                                                   0.0     0.0     0.0   \n1st to Die: A Novel                                    0.0     0.0     0.0   \n2nd Chance                                             0.0     0.0     0.0   \n4 Blondes                                              0.0     0.0     0.0   \n84 Charing Cross Road                                  0.0    10.0     0.0   \n...                                                    ...     ...     ...   \nYear of Wonders                                        0.0     0.0     0.0   \nYou Belong To Me                                       0.0     0.0     0.0   \nZen and the Art of Motorcycle Maintenance: An I...     0.0     0.0     0.0   \nZoya                                                   0.0     0.0     0.0   \n\\O\\\" Is for Outlaw\"                                    0.0     0.0     0.0   \n\nuser_id                                             277478  277639  278418  \ntitle                                                                       \n1984                                                   0.0     0.0     0.0  \n1st to Die: A Novel                                    0.0     0.0     0.0  \n2nd Chance                                             0.0     0.0     0.0  \n4 Blondes                                              0.0     0.0     0.0  \n84 Charing Cross Road                                  0.0     0.0     0.0  \n...                                                    ...     ...     ...  \nYear of Wonders                                        0.0     0.0     0.0  \nYou Belong To Me                                       0.0     0.0     0.0  \nZen and the Art of Motorcycle Maintenance: An I...     0.0     0.0     0.0  \nZoya                                                   0.0     0.0     0.0  \n\\O\\\" Is for Outlaw\"                                    0.0     0.0     0.0  \n\n[742 rows x 888 columns]",
      "text/html": "<div>\n<style scoped>\n    .dataframe tbody tr th:only-of-type {\n        vertical-align: middle;\n    }\n\n    .dataframe tbody tr th {\n        vertical-align: top;\n    }\n\n    .dataframe thead th {\n        text-align: right;\n    }\n</style>\n<table border=\"1\" class=\"dataframe\">\n  <thead>\n    <tr style=\"text-align: right;\">\n      <th>user_id</th>\n      <th>254</th>\n      <th>2276</th>\n      <th>2766</th>\n      <th>2977</th>\n      <th>3363</th>\n      <th>3757</th>\n      <th>4017</th>\n      <th>4385</th>\n      <th>6242</th>\n      <th>6251</th>\n      <th>...</th>\n      <th>274004</th>\n      <th>274061</th>\n      <th>274301</th>\n      <th>274308</th>\n      <th>274808</th>\n      <th>275970</th>\n      <th>277427</th>\n      <th>277478</th>\n      <th>277639</th>\n      <th>278418</th>\n    </tr>\n    <tr>\n      <th>title</th>\n      <th></th>\n      <th></th>\n      <th></th>\n      <th></th>\n      <th></th>\n      <th></th>\n      <th></th>\n      <th></th>\n      <th></th>\n      <th></th>\n      <th></th>\n      <th></th>\n      <th></th>\n      <th></th>\n      <th></th>\n      <th></th>\n      <th></th>\n      <th></th>\n      <th></th>\n      <th></th>\n      <th></th>\n    </tr>\n  </thead>\n  <tbody>\n    <tr>\n      <th>1984</th>\n      <td>9.0</td>\n      <td>0.0</td>\n      <td>0.0</td>\n      <td>0.0</td>\n      <td>0.0</td>\n      <td>0.0</td>\n      <td>0.0</td>\n      <td>0.0</td>\n      <td>0.0</td>\n      <td>0.0</td>\n      <td>...</td>\n      <td>0.0</td>\n      <td>0.0</td>\n      <td>0.0</td>\n      <td>0.0</td>\n      <td>0.0</td>\n      <td>0.0</td>\n      <td>0.0</td>\n      <td>0.0</td>\n      <td>0.0</td>\n      <td>0.0</td>\n    </tr>\n    <tr>\n      <th>1st to Die: A Novel</th>\n      <td>0.0</td>\n      <td>0.0</td>\n      <td>0.0</td>\n      <td>0.0</td>\n      <td>0.0</td>\n      <td>0.0</td>\n      <td>0.0</td>\n      <td>0.0</td>\n      <td>0.0</td>\n      <td>0.0</td>\n      <td>...</td>\n      <td>0.0</td>\n      <td>0.0</td>\n      <td>0.0</td>\n      <td>0.0</td>\n      <td>0.0</td>\n      <td>0.0</td>\n      <td>0.0</td>\n      <td>0.0</td>\n      <td>0.0</td>\n      <td>0.0</td>\n    </tr>\n    <tr>\n      <th>2nd Chance</th>\n      <td>0.0</td>\n      <td>10.0</td>\n      <td>0.0</td>\n      <td>0.0</td>\n      <td>0.0</td>\n      <td>0.0</td>\n      <td>0.0</td>\n      <td>0.0</td>\n      <td>0.0</td>\n      <td>0.0</td>\n      <td>...</td>\n      <td>0.0</td>\n      <td>0.0</td>\n      <td>0.0</td>\n      <td>0.0</td>\n      <td>0.0</td>\n      <td>0.0</td>\n      <td>0.0</td>\n      <td>0.0</td>\n      <td>0.0</td>\n      <td>0.0</td>\n    </tr>\n    <tr>\n      <th>4 Blondes</th>\n      <td>0.0</td>\n      <td>0.0</td>\n      <td>0.0</td>\n      <td>0.0</td>\n      <td>0.0</td>\n      <td>0.0</td>\n      <td>0.0</td>\n      <td>0.0</td>\n      <td>0.0</td>\n      <td>0.0</td>\n      <td>...</td>\n      <td>0.0</td>\n      <td>0.0</td>\n      <td>0.0</td>\n      <td>0.0</td>\n      <td>0.0</td>\n      <td>0.0</td>\n      <td>0.0</td>\n      <td>0.0</td>\n      <td>0.0</td>\n      <td>0.0</td>\n    </tr>\n    <tr>\n      <th>84 Charing Cross Road</th>\n      <td>0.0</td>\n      <td>0.0</td>\n      <td>0.0</td>\n      <td>0.0</td>\n      <td>0.0</td>\n      <td>0.0</td>\n      <td>0.0</td>\n      <td>0.0</td>\n      <td>0.0</td>\n      <td>0.0</td>\n      <td>...</td>\n      <td>0.0</td>\n      <td>0.0</td>\n      <td>0.0</td>\n      <td>0.0</td>\n      <td>0.0</td>\n      <td>10.0</td>\n      <td>0.0</td>\n      <td>0.0</td>\n      <td>0.0</td>\n      <td>0.0</td>\n    </tr>\n    <tr>\n      <th>...</th>\n      <td>...</td>\n      <td>...</td>\n      <td>...</td>\n      <td>...</td>\n      <td>...</td>\n      <td>...</td>\n      <td>...</td>\n      <td>...</td>\n      <td>...</td>\n      <td>...</td>\n      <td>...</td>\n      <td>...</td>\n      <td>...</td>\n      <td>...</td>\n      <td>...</td>\n      <td>...</td>\n      <td>...</td>\n      <td>...</td>\n      <td>...</td>\n      <td>...</td>\n      <td>...</td>\n    </tr>\n    <tr>\n      <th>Year of Wonders</th>\n      <td>0.0</td>\n      <td>0.0</td>\n      <td>0.0</td>\n      <td>7.0</td>\n      <td>0.0</td>\n      <td>0.0</td>\n      <td>0.0</td>\n      <td>0.0</td>\n      <td>7.0</td>\n      <td>0.0</td>\n      <td>...</td>\n      <td>0.0</td>\n      <td>0.0</td>\n      <td>0.0</td>\n      <td>0.0</td>\n      <td>0.0</td>\n      <td>0.0</td>\n      <td>0.0</td>\n      <td>0.0</td>\n      <td>0.0</td>\n      <td>0.0</td>\n    </tr>\n    <tr>\n      <th>You Belong To Me</th>\n      <td>0.0</td>\n      <td>0.0</td>\n      <td>0.0</td>\n      <td>0.0</td>\n      <td>0.0</td>\n      <td>0.0</td>\n      <td>0.0</td>\n      <td>0.0</td>\n      <td>0.0</td>\n      <td>0.0</td>\n      <td>...</td>\n      <td>0.0</td>\n      <td>0.0</td>\n      <td>0.0</td>\n      <td>0.0</td>\n      <td>0.0</td>\n      <td>0.0</td>\n      <td>0.0</td>\n      <td>0.0</td>\n      <td>0.0</td>\n      <td>0.0</td>\n    </tr>\n    <tr>\n      <th>Zen and the Art of Motorcycle Maintenance: An Inquiry into Values</th>\n      <td>0.0</td>\n      <td>0.0</td>\n      <td>0.0</td>\n      <td>0.0</td>\n      <td>0.0</td>\n      <td>0.0</td>\n      <td>0.0</td>\n      <td>0.0</td>\n      <td>0.0</td>\n      <td>0.0</td>\n      <td>...</td>\n      <td>0.0</td>\n      <td>0.0</td>\n      <td>0.0</td>\n      <td>0.0</td>\n      <td>0.0</td>\n      <td>0.0</td>\n      <td>0.0</td>\n      <td>0.0</td>\n      <td>0.0</td>\n      <td>0.0</td>\n    </tr>\n    <tr>\n      <th>Zoya</th>\n      <td>0.0</td>\n      <td>0.0</td>\n      <td>0.0</td>\n      <td>0.0</td>\n      <td>0.0</td>\n      <td>0.0</td>\n      <td>0.0</td>\n      <td>0.0</td>\n      <td>0.0</td>\n      <td>0.0</td>\n      <td>...</td>\n      <td>0.0</td>\n      <td>0.0</td>\n      <td>0.0</td>\n      <td>0.0</td>\n      <td>0.0</td>\n      <td>0.0</td>\n      <td>0.0</td>\n      <td>0.0</td>\n      <td>0.0</td>\n      <td>0.0</td>\n    </tr>\n    <tr>\n      <th>\\O\\\" Is for Outlaw\"</th>\n      <td>0.0</td>\n      <td>0.0</td>\n      <td>0.0</td>\n      <td>0.0</td>\n      <td>0.0</td>\n      <td>0.0</td>\n      <td>0.0</td>\n      <td>0.0</td>\n      <td>0.0</td>\n      <td>0.0</td>\n      <td>...</td>\n      <td>0.0</td>\n      <td>0.0</td>\n      <td>8.0</td>\n      <td>0.0</td>\n      <td>0.0</td>\n      <td>0.0</td>\n      <td>0.0</td>\n      <td>0.0</td>\n      <td>0.0</td>\n      <td>0.0</td>\n    </tr>\n  </tbody>\n</table>\n<p>742 rows × 888 columns</p>\n</div>"
     },
     "execution_count": 130,
     "metadata": {},
     "output_type": "execute_result"
    }
   ],
   "source": [
    "book_pivot"
   ]
  },
  {
   "cell_type": "markdown",
   "metadata": {},
   "source": [
    "# Training Model"
   ]
  },
  {
   "cell_type": "code",
   "execution_count": 131,
   "metadata": {
    "ExecuteTime": {
     "end_time": "2023-04-21T02:40:31.727741Z",
     "start_time": "2023-04-21T02:40:31.502215Z"
    }
   },
   "outputs": [],
   "source": [
    "from scipy.sparse import csr_matrix"
   ]
  },
  {
   "cell_type": "code",
   "execution_count": 132,
   "metadata": {
    "ExecuteTime": {
     "end_time": "2023-04-21T02:40:34.110937Z",
     "start_time": "2023-04-21T02:40:33.910531Z"
    }
   },
   "outputs": [],
   "source": [
    "book_sparse = csr_matrix(book_pivot)"
   ]
  },
  {
   "cell_type": "code",
   "execution_count": 133,
   "metadata": {
    "ExecuteTime": {
     "end_time": "2023-04-21T02:40:35.958869Z",
     "start_time": "2023-04-21T02:40:35.720932Z"
    }
   },
   "outputs": [
    {
     "data": {
      "text/plain": "scipy.sparse._csr.csr_matrix"
     },
     "execution_count": 133,
     "metadata": {},
     "output_type": "execute_result"
    }
   ],
   "source": [
    "type(book_sparse)"
   ]
  },
  {
   "cell_type": "code",
   "execution_count": 134,
   "metadata": {
    "ExecuteTime": {
     "end_time": "2023-04-21T02:40:38.438615Z",
     "start_time": "2023-04-21T02:40:37.183598Z"
    }
   },
   "outputs": [],
   "source": [
    "# Now import our clustering algoritm which is Nearest Neighbors this is an unsupervised ml algo\n",
    "from sklearn.neighbors import NearestNeighbors\n",
    "model = NearestNeighbors(algorithm= 'brute')"
   ]
  },
  {
   "cell_type": "code",
   "execution_count": 135,
   "metadata": {
    "ExecuteTime": {
     "end_time": "2023-04-21T02:40:39.724883Z",
     "start_time": "2023-04-21T02:40:39.671201Z"
    }
   },
   "outputs": [
    {
     "data": {
      "text/plain": "NearestNeighbors(algorithm='brute')",
      "text/html": "<style>#sk-container-id-2 {color: black;background-color: white;}#sk-container-id-2 pre{padding: 0;}#sk-container-id-2 div.sk-toggleable {background-color: white;}#sk-container-id-2 label.sk-toggleable__label {cursor: pointer;display: block;width: 100%;margin-bottom: 0;padding: 0.3em;box-sizing: border-box;text-align: center;}#sk-container-id-2 label.sk-toggleable__label-arrow:before {content: \"▸\";float: left;margin-right: 0.25em;color: #696969;}#sk-container-id-2 label.sk-toggleable__label-arrow:hover:before {color: black;}#sk-container-id-2 div.sk-estimator:hover label.sk-toggleable__label-arrow:before {color: black;}#sk-container-id-2 div.sk-toggleable__content {max-height: 0;max-width: 0;overflow: hidden;text-align: left;background-color: #f0f8ff;}#sk-container-id-2 div.sk-toggleable__content pre {margin: 0.2em;color: black;border-radius: 0.25em;background-color: #f0f8ff;}#sk-container-id-2 input.sk-toggleable__control:checked~div.sk-toggleable__content {max-height: 200px;max-width: 100%;overflow: auto;}#sk-container-id-2 input.sk-toggleable__control:checked~label.sk-toggleable__label-arrow:before {content: \"▾\";}#sk-container-id-2 div.sk-estimator input.sk-toggleable__control:checked~label.sk-toggleable__label {background-color: #d4ebff;}#sk-container-id-2 div.sk-label input.sk-toggleable__control:checked~label.sk-toggleable__label {background-color: #d4ebff;}#sk-container-id-2 input.sk-hidden--visually {border: 0;clip: rect(1px 1px 1px 1px);clip: rect(1px, 1px, 1px, 1px);height: 1px;margin: -1px;overflow: hidden;padding: 0;position: absolute;width: 1px;}#sk-container-id-2 div.sk-estimator {font-family: monospace;background-color: #f0f8ff;border: 1px dotted black;border-radius: 0.25em;box-sizing: border-box;margin-bottom: 0.5em;}#sk-container-id-2 div.sk-estimator:hover {background-color: #d4ebff;}#sk-container-id-2 div.sk-parallel-item::after {content: \"\";width: 100%;border-bottom: 1px solid gray;flex-grow: 1;}#sk-container-id-2 div.sk-label:hover label.sk-toggleable__label {background-color: #d4ebff;}#sk-container-id-2 div.sk-serial::before {content: \"\";position: absolute;border-left: 1px solid gray;box-sizing: border-box;top: 0;bottom: 0;left: 50%;z-index: 0;}#sk-container-id-2 div.sk-serial {display: flex;flex-direction: column;align-items: center;background-color: white;padding-right: 0.2em;padding-left: 0.2em;position: relative;}#sk-container-id-2 div.sk-item {position: relative;z-index: 1;}#sk-container-id-2 div.sk-parallel {display: flex;align-items: stretch;justify-content: center;background-color: white;position: relative;}#sk-container-id-2 div.sk-item::before, #sk-container-id-2 div.sk-parallel-item::before {content: \"\";position: absolute;border-left: 1px solid gray;box-sizing: border-box;top: 0;bottom: 0;left: 50%;z-index: -1;}#sk-container-id-2 div.sk-parallel-item {display: flex;flex-direction: column;z-index: 1;position: relative;background-color: white;}#sk-container-id-2 div.sk-parallel-item:first-child::after {align-self: flex-end;width: 50%;}#sk-container-id-2 div.sk-parallel-item:last-child::after {align-self: flex-start;width: 50%;}#sk-container-id-2 div.sk-parallel-item:only-child::after {width: 0;}#sk-container-id-2 div.sk-dashed-wrapped {border: 1px dashed gray;margin: 0 0.4em 0.5em 0.4em;box-sizing: border-box;padding-bottom: 0.4em;background-color: white;}#sk-container-id-2 div.sk-label label {font-family: monospace;font-weight: bold;display: inline-block;line-height: 1.2em;}#sk-container-id-2 div.sk-label-container {text-align: center;}#sk-container-id-2 div.sk-container {/* jupyter's `normalize.less` sets `[hidden] { display: none; }` but bootstrap.min.css set `[hidden] { display: none !important; }` so we also need the `!important` here to be able to override the default hidden behavior on the sphinx rendered scikit-learn.org. See: https://github.com/scikit-learn/scikit-learn/issues/21755 */display: inline-block !important;position: relative;}#sk-container-id-2 div.sk-text-repr-fallback {display: none;}</style><div id=\"sk-container-id-2\" class=\"sk-top-container\"><div class=\"sk-text-repr-fallback\"><pre>NearestNeighbors(algorithm=&#x27;brute&#x27;)</pre><b>In a Jupyter environment, please rerun this cell to show the HTML representation or trust the notebook. <br />On GitHub, the HTML representation is unable to render, please try loading this page with nbviewer.org.</b></div><div class=\"sk-container\" hidden><div class=\"sk-item\"><div class=\"sk-estimator sk-toggleable\"><input class=\"sk-toggleable__control sk-hidden--visually\" id=\"sk-estimator-id-2\" type=\"checkbox\" checked><label for=\"sk-estimator-id-2\" class=\"sk-toggleable__label sk-toggleable__label-arrow\">NearestNeighbors</label><div class=\"sk-toggleable__content\"><pre>NearestNeighbors(algorithm=&#x27;brute&#x27;)</pre></div></div></div></div></div>"
     },
     "execution_count": 135,
     "metadata": {},
     "output_type": "execute_result"
    }
   ],
   "source": [
    "model.fit(book_sparse)"
   ]
  },
  {
   "cell_type": "code",
   "execution_count": 136,
   "metadata": {
    "ExecuteTime": {
     "end_time": "2023-04-21T02:40:41.752516Z",
     "start_time": "2023-04-21T02:40:41.577135Z"
    }
   },
   "outputs": [],
   "source": [
    "distance, suggestion = model.kneighbors(book_pivot.iloc[237,:].values.reshape(1,-1), n_neighbors=6 )"
   ]
  },
  {
   "cell_type": "code",
   "execution_count": 137,
   "metadata": {
    "ExecuteTime": {
     "end_time": "2023-04-21T02:40:42.891692Z",
     "start_time": "2023-04-21T02:40:42.819841Z"
    }
   },
   "outputs": [
    {
     "data": {
      "text/plain": "array([[ 0.        , 68.78953409, 69.5413546 , 72.64296249, 76.83098333,\n        77.28518616]])"
     },
     "execution_count": 137,
     "metadata": {},
     "output_type": "execute_result"
    }
   ],
   "source": [
    "distance"
   ]
  },
  {
   "cell_type": "code",
   "execution_count": 138,
   "metadata": {
    "ExecuteTime": {
     "end_time": "2023-04-21T02:40:45.309685Z",
     "start_time": "2023-04-21T02:40:45.251650Z"
    }
   },
   "outputs": [
    {
     "data": {
      "text/plain": "array([[237, 240, 238, 241, 184, 536]], dtype=int64)"
     },
     "execution_count": 138,
     "metadata": {},
     "output_type": "execute_result"
    }
   ],
   "source": [
    "suggestion"
   ]
  },
  {
   "cell_type": "code",
   "execution_count": 139,
   "metadata": {
    "ExecuteTime": {
     "end_time": "2023-04-21T02:40:59.127001Z",
     "start_time": "2023-04-21T02:40:59.026224Z"
    }
   },
   "outputs": [
    {
     "data": {
      "text/plain": "user_id\n254       9.0\n2276      0.0\n2766      0.0\n2977      0.0\n3363      0.0\n         ... \n275970    9.0\n277427    0.0\n277478    0.0\n277639    0.0\n278418    0.0\nName: Harry Potter and the Sorcerer's Stone (Book 1), Length: 888, dtype: float64"
     },
     "execution_count": 139,
     "metadata": {},
     "output_type": "execute_result"
    }
   ],
   "source": [
    "book_pivot.iloc[241,:]"
   ]
  },
  {
   "cell_type": "code",
   "execution_count": 140,
   "metadata": {
    "ExecuteTime": {
     "end_time": "2023-04-21T02:41:00.682838Z",
     "start_time": "2023-04-21T02:41:00.506545Z"
    }
   },
   "outputs": [
    {
     "name": "stdout",
     "output_type": "stream",
     "text": [
      "Index(['Harry Potter and the Chamber of Secrets (Book 2)',\n",
      "       'Harry Potter and the Prisoner of Azkaban (Book 3)',\n",
      "       'Harry Potter and the Goblet of Fire (Book 4)',\n",
      "       'Harry Potter and the Sorcerer's Stone (Book 1)', 'Exclusive',\n",
      "       'The Cradle Will Fall'],\n",
      "      dtype='object', name='title')\n"
     ]
    }
   ],
   "source": [
    "for i in range(len(suggestion)):\n",
    "    print(book_pivot.index[suggestion[i]])"
   ]
  },
  {
   "cell_type": "code",
   "execution_count": 141,
   "metadata": {
    "ExecuteTime": {
     "end_time": "2023-04-21T02:41:03.551111Z",
     "start_time": "2023-04-21T02:41:03.493536Z"
    }
   },
   "outputs": [
    {
     "data": {
      "text/plain": "'4 Blondes'"
     },
     "execution_count": 141,
     "metadata": {},
     "output_type": "execute_result"
    }
   ],
   "source": [
    "book_pivot.index[3]"
   ]
  },
  {
   "cell_type": "code",
   "execution_count": 142,
   "metadata": {
    "ExecuteTime": {
     "end_time": "2023-04-21T02:41:22.495331Z",
     "start_time": "2023-04-21T02:41:22.438512Z"
    }
   },
   "outputs": [],
   "source": [
    "#keeping books name\n",
    "book_names = book_pivot.index"
   ]
  },
  {
   "cell_type": "code",
   "execution_count": 143,
   "metadata": {
    "ExecuteTime": {
     "end_time": "2023-04-21T02:41:29.041260Z",
     "start_time": "2023-04-21T02:41:28.948911Z"
    }
   },
   "outputs": [
    {
     "data": {
      "text/plain": "'2nd Chance'"
     },
     "execution_count": 143,
     "metadata": {},
     "output_type": "execute_result"
    }
   ],
   "source": [
    "book_names[2]"
   ]
  },
  {
   "cell_type": "code",
   "execution_count": 144,
   "metadata": {
    "ExecuteTime": {
     "end_time": "2023-04-21T02:41:30.148157Z",
     "start_time": "2023-04-21T02:41:30.096460Z"
    }
   },
   "outputs": [
    {
     "data": {
      "text/plain": "3"
     },
     "execution_count": 144,
     "metadata": {},
     "output_type": "execute_result"
    }
   ],
   "source": [
    "np.where(book_pivot.index == '4 Blondes')[0][0]"
   ]
  },
  {
   "cell_type": "markdown",
   "metadata": {},
   "source": [
    "# find url"
   ]
  },
  {
   "cell_type": "code",
   "execution_count": 145,
   "metadata": {
    "ExecuteTime": {
     "end_time": "2023-04-21T02:41:33.714988Z",
     "start_time": "2023-04-21T02:41:33.626753Z"
    }
   },
   "outputs": [],
   "source": [
    "# final_rating['title'].value_counts()\n",
    "ids = np.where(final_rating['title'] == \"Harry Potter and the Chamber of Secrets (Book 2)\")[0][0]"
   ]
  },
  {
   "cell_type": "code",
   "execution_count": 146,
   "metadata": {
    "ExecuteTime": {
     "end_time": "2023-04-21T02:41:34.673152Z",
     "start_time": "2023-04-21T02:41:34.614164Z"
    }
   },
   "outputs": [
    {
     "data": {
      "text/plain": "'http://images.amazon.com/images/P/0439064872.01.LZZZZZZZ.jpg'"
     },
     "execution_count": 146,
     "metadata": {},
     "output_type": "execute_result"
    }
   ],
   "source": [
    "final_rating.iloc[ids]['image_url']"
   ]
  },
  {
   "cell_type": "code",
   "execution_count": 147,
   "metadata": {
    "ExecuteTime": {
     "end_time": "2023-04-21T02:41:35.576134Z",
     "start_time": "2023-04-21T02:41:35.520453Z"
    }
   },
   "outputs": [],
   "source": [
    "book_name = []\n",
    "for book_id in suggestion:\n",
    "    book_name.append(book_pivot.index[book_id])\n",
    "    \n",
    "    "
   ]
  },
  {
   "cell_type": "code",
   "execution_count": 148,
   "metadata": {
    "ExecuteTime": {
     "end_time": "2023-04-21T02:41:37.073725Z",
     "start_time": "2023-04-21T02:41:36.966766Z"
    }
   },
   "outputs": [
    {
     "data": {
      "text/plain": "Index(['Harry Potter and the Chamber of Secrets (Book 2)',\n       'Harry Potter and the Prisoner of Azkaban (Book 3)',\n       'Harry Potter and the Goblet of Fire (Book 4)',\n       'Harry Potter and the Sorcerer's Stone (Book 1)', 'Exclusive',\n       'The Cradle Will Fall'],\n      dtype='object', name='title')"
     },
     "execution_count": 148,
     "metadata": {},
     "output_type": "execute_result"
    }
   ],
   "source": [
    "book_name[0]"
   ]
  },
  {
   "cell_type": "code",
   "execution_count": 149,
   "metadata": {
    "ExecuteTime": {
     "end_time": "2023-04-21T02:41:38.278905Z",
     "start_time": "2023-04-21T02:41:38.198946Z"
    }
   },
   "outputs": [],
   "source": [
    "ids_index = []\n",
    "for name in book_name[0]: \n",
    "    ids = np.where(final_rating['title'] == name)[0][0]\n",
    "    ids_index.append(ids)"
   ]
  },
  {
   "cell_type": "code",
   "execution_count": 150,
   "metadata": {
    "ExecuteTime": {
     "end_time": "2023-04-21T02:41:39.517671Z",
     "start_time": "2023-04-21T02:41:39.419224Z"
    }
   },
   "outputs": [
    {
     "name": "stdout",
     "output_type": "stream",
     "text": [
      "http://images.amazon.com/images/P/0439064872.01.LZZZZZZZ.jpg\n",
      "http://images.amazon.com/images/P/0439136369.01.LZZZZZZZ.jpg\n",
      "http://images.amazon.com/images/P/0439139597.01.LZZZZZZZ.jpg\n",
      "http://images.amazon.com/images/P/043936213X.01.LZZZZZZZ.jpg\n",
      "http://images.amazon.com/images/P/0446604232.01.LZZZZZZZ.jpg\n",
      "http://images.amazon.com/images/P/0440115450.01.LZZZZZZZ.jpg\n"
     ]
    }
   ],
   "source": [
    "for idx in ids_index:\n",
    "    url = final_rating.iloc[idx]['image_url']\n",
    "    print(url)"
   ]
  },
  {
   "cell_type": "code",
   "execution_count": 151,
   "metadata": {
    "ExecuteTime": {
     "end_time": "2023-04-21T02:41:40.456745Z",
     "start_time": "2023-04-21T02:41:40.338414Z"
    }
   },
   "outputs": [],
   "source": [
    "import pickle\n",
    "pickle.dump(model,open('artifacts/model.pkl','wb'))\n",
    "pickle.dump(book_names,open('artifacts/book_names.pkl','wb'))\n",
    "pickle.dump(final_rating,open('artifacts/final_rating.pkl','wb'))\n",
    "pickle.dump(book_pivot,open('artifacts/book_pivot.pkl','wb'))"
   ]
  },
  {
   "cell_type": "markdown",
   "metadata": {},
   "source": [
    "# Testing model"
   ]
  },
  {
   "cell_type": "code",
   "execution_count": 152,
   "metadata": {
    "ExecuteTime": {
     "end_time": "2023-04-21T02:41:43.954615Z",
     "start_time": "2023-04-21T02:41:43.839126Z"
    }
   },
   "outputs": [],
   "source": [
    "def recommend_book(book_name):\n",
    "    book_id = np.where(book_pivot.index == book_name)[0][0]\n",
    "    distance, suggestion = model.kneighbors(book_pivot.iloc[book_id,:].values.reshape(1,-1), n_neighbors=6 )\n",
    "    \n",
    "    for i in range(len(suggestion)):\n",
    "            books = book_pivot.index[suggestion[i]]\n",
    "            for j in books:\n",
    "                if j == book_name:\n",
    "                    print(f\"You searched '{book_name}'\\n\")\n",
    "                    print(\"The suggestion books are: \\n\")\n",
    "                else:\n",
    "                    print(j)"
   ]
  },
  {
   "cell_type": "code",
   "execution_count": 153,
   "metadata": {},
   "outputs": [
    {
     "name": "stdout",
     "output_type": "stream",
     "text": [
      "You searched 'No Safe Place'\n",
      "\n",
      "The suggestion books are: \n",
      "\n",
      "Long After Midnight\n",
      "A Civil Action\n",
      "Exclusive\n",
      "Table For Two\n",
      "Lake Wobegon days\n"
     ]
    }
   ],
   "source": [
    "book_name = \"No Safe Place\"\n",
    "recommend_book(book_name)"
   ]
  },
  {
   "cell_type": "code",
   "execution_count": 154,
   "metadata": {},
   "outputs": [
    {
     "name": "stdout",
     "output_type": "stream",
     "text": [
      "hyeloi\n"
     ]
    }
   ],
   "source": [
    "print(\"hyeloi\")"
   ]
  }
 ],
 "metadata": {
  "kernelspec": {
   "display_name": "Python 3 (ipykernel)",
   "language": "python",
   "name": "python3"
  },
  "language_info": {
   "codemirror_mode": {
    "name": "ipython",
    "version": 3
   },
   "file_extension": ".py",
   "mimetype": "text/x-python",
   "name": "python",
   "nbconvert_exporter": "python",
   "pygments_lexer": "ipython3",
   "version": "3.10.6"
  }
 },
 "nbformat": 4,
 "nbformat_minor": 4
}
